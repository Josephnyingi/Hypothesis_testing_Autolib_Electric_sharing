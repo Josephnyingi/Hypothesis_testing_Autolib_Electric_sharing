{
  "nbformat": 4,
  "nbformat_minor": 0,
  "metadata": {
    "colab": {
      "name": "Hypothesis_testing_Autolib_Electric_sharing .ipynb",
      "provenance": [],
      "collapsed_sections": [],
      "toc_visible": true,
      "authorship_tag": "ABX9TyP9zwWhGWp8N+Pr14NNhnbT",
      "include_colab_link": true
    },
    "kernelspec": {
      "name": "python3",
      "display_name": "Python 3"
    }
  },
  "cells": [
    {
      "cell_type": "markdown",
      "metadata": {
        "id": "view-in-github",
        "colab_type": "text"
      },
      "source": [
        "<a href=\"https://colab.research.google.com/github/Josephnyingi/Hypothesis_testing_Autolib_Electric_sharing/blob/main/Hypothesis_testing_Autolib_Electric_sharing_.ipynb\" target=\"_parent\"><img src=\"https://colab.research.google.com/assets/colab-badge.svg\" alt=\"Open In Colab\"/></a>"
      ]
    },
    {
      "cell_type": "markdown",
      "metadata": {
        "id": "d2Dkjbjt5Pa7"
      },
      "source": [
        "# Specifying the Research Question"
      ]
    },
    {
      "cell_type": "markdown",
      "metadata": {
        "id": "A1PbjlD55dGg"
      },
      "source": [
        "This project aims to demonstrate the concept of hypothesis testing by investigating a claim about blue-cars using a dataset from an electric car-sharing service company called Autolib.\n",
        "\n",
        "I will be comparing the blue car usage rates in Paris and Val-de-Marne, which are two French cities. Below are the specific hypotheses of interest in this analysis:\n",
        "\n",
        "Null Hypothesis: For both Paris and Val-de-Marne  the average number of blue-cars picked up during weekends is the same.\n",
        "Ho : μ1 = μ2\n",
        "\n",
        "Alternate Hypothesis: The average number of blue cars picked up during the weekend is different for Paris and Val-de-Marne .\n",
        "Ha: μ1 ≠ μ2\n"
      ]
    },
    {
      "cell_type": "markdown",
      "metadata": {
        "id": "TfFplzN75lxm"
      },
      "source": [
        "# Understanding the Research Context"
      ]
    },
    {
      "cell_type": "markdown",
      "metadata": {
        "id": "FEdW5a0P57Aj"
      },
      "source": [
        "Carsharing or car sharing is a car rental model where people rent cars for short periods, often by the hour. It differs from traditional car rental in that the car owners are usually private individuals themselves, and the carsharing facilitator is generally distinct from the car owner. Carsharing is part of the larger trend of shared mobility.\n",
        "\n",
        "As car-sharing continues to influence how we get from point A to B in our communities, electric car-sharing could help accelerate our transition to cleaner vehicles as they work to meet their climate goals and reduce their carbon footprint.\n"
      ]
    },
    {
      "cell_type": "markdown",
      "metadata": {
        "id": "ilRgmmhO6DHF"
      },
      "source": [
        "Autolib was an electric car-sharing service company in France that was operational between 2011 and 2018. The company had three types of electric cars, i.e., blue cars, Utilib cars, and Utilib 1.4 cars. Blue cars were the most popularly used. \n",
        "\n",
        "These cars were available across various postal codes and cities in France, and renters could pick up cars in one station then drop them off at a different station that was closer to their destination. "
      ]
    },
    {
      "cell_type": "markdown",
      "metadata": {
        "id": "VM_06t2S6umU"
      },
      "source": [
        "# Experimental Design"
      ]
    },
    {
      "cell_type": "markdown",
      "metadata": {
        "id": "z2OmvGRh6z4h"
      },
      "source": [
        "Below are the steps that will be conducted in this analysis to fulfill the project goal satisfactorily:\n",
        "\n",
        "•\tLoad data and preliminary preview characteristics of the dataset\n",
        "\n",
        "•\tData cleaning (check for and deal with outliers, anomalies, and missing data)\n",
        "\n",
        "•\tPerform univariate and bivariate analysis\n",
        "\n",
        "•\tSpecify the null and alternate hypotheses\n",
        "\n",
        "•\tSpecify the sampling technique\n",
        "\n",
        "•\tPerform hypothesis testing\n",
        "\n",
        "•\tDiscuss the hypothesis test results\n",
        "\n",
        "•\tProvide a project summary and conclusion\n"
      ]
    },
    {
      "cell_type": "markdown",
      "metadata": {
        "id": "zm9zDBcU7xmt"
      },
      "source": [
        "# Data relevance"
      ]
    },
    {
      "cell_type": "markdown",
      "metadata": {
        "id": "76JmwIdN7Bok"
      },
      "source": [
        "The dataset used in the analysis contains records of electric car usage in France from January 2018 to June 2018. \n",
        "\n",
        "This dataset was originally sourced from opendataparis.com. Some of the dataset information includes postal code, day of the week, and total cars returned or picked up for blue cars, Utilib cars, and Utilib 1.4 cars. \n",
        "\n",
        "The data available for this analysis is valid and useful towards achieving the project goal, given the availability of both numeric and categorical attributes.\n",
        "\n"
      ]
    },
    {
      "cell_type": "markdown",
      "metadata": {
        "id": "8IXWKVaY6iri"
      },
      "source": [
        ""
      ]
    },
    {
      "cell_type": "markdown",
      "metadata": {
        "id": "Czd7YtlgXQJk"
      },
      "source": [
        "# Reading dataset"
      ]
    },
    {
      "cell_type": "code",
      "metadata": {
        "id": "EWVG42e-Qm1E"
      },
      "source": [
        "# Importing relevant python libraries\n",
        "#\n",
        "import pandas as pd\n",
        "import numpy as np\n",
        "import seaborn as sns\n",
        "import matplotlib.pyplot as plt"
      ],
      "execution_count": 45,
      "outputs": []
    },
    {
      "cell_type": "code",
      "metadata": {
        "id": "tVM5jAWFRoSm",
        "outputId": "3561433a-f679-43cb-8eb7-1ff22d76d170",
        "colab": {
          "base_uri": "https://localhost:8080/",
          "height": 443
        }
      },
      "source": [
        "# Loading data from the source (csv file)\n",
        "\n",
        " # Dataset Url:  [http://bit.ly/DSCoreAutolibDataset]\n",
        "\n",
        "Autolib = pd.read_csv('/content/autolib_daily_events_postal_code.csv')\n",
        "Autolib"
      ],
      "execution_count": 46,
      "outputs": [
        {
          "output_type": "execute_result",
          "data": {
            "text/html": [
              "<div>\n",
              "<style scoped>\n",
              "    .dataframe tbody tr th:only-of-type {\n",
              "        vertical-align: middle;\n",
              "    }\n",
              "\n",
              "    .dataframe tbody tr th {\n",
              "        vertical-align: top;\n",
              "    }\n",
              "\n",
              "    .dataframe thead th {\n",
              "        text-align: right;\n",
              "    }\n",
              "</style>\n",
              "<table border=\"1\" class=\"dataframe\">\n",
              "  <thead>\n",
              "    <tr style=\"text-align: right;\">\n",
              "      <th></th>\n",
              "      <th>Postal code</th>\n",
              "      <th>date</th>\n",
              "      <th>n_daily_data_points</th>\n",
              "      <th>dayOfWeek</th>\n",
              "      <th>day_type</th>\n",
              "      <th>BlueCars_taken_sum</th>\n",
              "      <th>BlueCars_returned_sum</th>\n",
              "      <th>Utilib_taken_sum</th>\n",
              "      <th>Utilib_returned_sum</th>\n",
              "      <th>Utilib_14_taken_sum</th>\n",
              "      <th>Utilib_14_returned_sum</th>\n",
              "      <th>Slots_freed_sum</th>\n",
              "      <th>Slots_taken_sum</th>\n",
              "    </tr>\n",
              "  </thead>\n",
              "  <tbody>\n",
              "    <tr>\n",
              "      <th>0</th>\n",
              "      <td>75001</td>\n",
              "      <td>1/1/2018</td>\n",
              "      <td>1440</td>\n",
              "      <td>0</td>\n",
              "      <td>weekday</td>\n",
              "      <td>110</td>\n",
              "      <td>103</td>\n",
              "      <td>3</td>\n",
              "      <td>2</td>\n",
              "      <td>10</td>\n",
              "      <td>9</td>\n",
              "      <td>22</td>\n",
              "      <td>20</td>\n",
              "    </tr>\n",
              "    <tr>\n",
              "      <th>1</th>\n",
              "      <td>75001</td>\n",
              "      <td>1/2/2018</td>\n",
              "      <td>1438</td>\n",
              "      <td>1</td>\n",
              "      <td>weekday</td>\n",
              "      <td>98</td>\n",
              "      <td>94</td>\n",
              "      <td>1</td>\n",
              "      <td>1</td>\n",
              "      <td>8</td>\n",
              "      <td>8</td>\n",
              "      <td>23</td>\n",
              "      <td>22</td>\n",
              "    </tr>\n",
              "    <tr>\n",
              "      <th>2</th>\n",
              "      <td>75001</td>\n",
              "      <td>1/3/2018</td>\n",
              "      <td>1439</td>\n",
              "      <td>2</td>\n",
              "      <td>weekday</td>\n",
              "      <td>138</td>\n",
              "      <td>139</td>\n",
              "      <td>0</td>\n",
              "      <td>0</td>\n",
              "      <td>2</td>\n",
              "      <td>2</td>\n",
              "      <td>27</td>\n",
              "      <td>27</td>\n",
              "    </tr>\n",
              "    <tr>\n",
              "      <th>3</th>\n",
              "      <td>75001</td>\n",
              "      <td>1/4/2018</td>\n",
              "      <td>1320</td>\n",
              "      <td>3</td>\n",
              "      <td>weekday</td>\n",
              "      <td>104</td>\n",
              "      <td>104</td>\n",
              "      <td>2</td>\n",
              "      <td>2</td>\n",
              "      <td>9</td>\n",
              "      <td>8</td>\n",
              "      <td>25</td>\n",
              "      <td>21</td>\n",
              "    </tr>\n",
              "    <tr>\n",
              "      <th>4</th>\n",
              "      <td>75001</td>\n",
              "      <td>1/5/2018</td>\n",
              "      <td>1440</td>\n",
              "      <td>4</td>\n",
              "      <td>weekday</td>\n",
              "      <td>114</td>\n",
              "      <td>117</td>\n",
              "      <td>3</td>\n",
              "      <td>3</td>\n",
              "      <td>6</td>\n",
              "      <td>6</td>\n",
              "      <td>18</td>\n",
              "      <td>20</td>\n",
              "    </tr>\n",
              "    <tr>\n",
              "      <th>...</th>\n",
              "      <td>...</td>\n",
              "      <td>...</td>\n",
              "      <td>...</td>\n",
              "      <td>...</td>\n",
              "      <td>...</td>\n",
              "      <td>...</td>\n",
              "      <td>...</td>\n",
              "      <td>...</td>\n",
              "      <td>...</td>\n",
              "      <td>...</td>\n",
              "      <td>...</td>\n",
              "      <td>...</td>\n",
              "      <td>...</td>\n",
              "    </tr>\n",
              "    <tr>\n",
              "      <th>16080</th>\n",
              "      <td>95880</td>\n",
              "      <td>6/15/2018</td>\n",
              "      <td>1440</td>\n",
              "      <td>4</td>\n",
              "      <td>weekday</td>\n",
              "      <td>15</td>\n",
              "      <td>10</td>\n",
              "      <td>0</td>\n",
              "      <td>0</td>\n",
              "      <td>2</td>\n",
              "      <td>3</td>\n",
              "      <td>0</td>\n",
              "      <td>0</td>\n",
              "    </tr>\n",
              "    <tr>\n",
              "      <th>16081</th>\n",
              "      <td>95880</td>\n",
              "      <td>6/16/2018</td>\n",
              "      <td>1440</td>\n",
              "      <td>5</td>\n",
              "      <td>weekend</td>\n",
              "      <td>19</td>\n",
              "      <td>19</td>\n",
              "      <td>0</td>\n",
              "      <td>0</td>\n",
              "      <td>2</td>\n",
              "      <td>1</td>\n",
              "      <td>0</td>\n",
              "      <td>0</td>\n",
              "    </tr>\n",
              "    <tr>\n",
              "      <th>16082</th>\n",
              "      <td>95880</td>\n",
              "      <td>6/17/2018</td>\n",
              "      <td>1440</td>\n",
              "      <td>6</td>\n",
              "      <td>weekend</td>\n",
              "      <td>33</td>\n",
              "      <td>35</td>\n",
              "      <td>1</td>\n",
              "      <td>1</td>\n",
              "      <td>0</td>\n",
              "      <td>0</td>\n",
              "      <td>0</td>\n",
              "      <td>0</td>\n",
              "    </tr>\n",
              "    <tr>\n",
              "      <th>16083</th>\n",
              "      <td>95880</td>\n",
              "      <td>6/18/2018</td>\n",
              "      <td>1440</td>\n",
              "      <td>0</td>\n",
              "      <td>weekday</td>\n",
              "      <td>11</td>\n",
              "      <td>14</td>\n",
              "      <td>3</td>\n",
              "      <td>5</td>\n",
              "      <td>2</td>\n",
              "      <td>2</td>\n",
              "      <td>0</td>\n",
              "      <td>0</td>\n",
              "    </tr>\n",
              "    <tr>\n",
              "      <th>16084</th>\n",
              "      <td>95880</td>\n",
              "      <td>6/19/2018</td>\n",
              "      <td>1370</td>\n",
              "      <td>1</td>\n",
              "      <td>weekday</td>\n",
              "      <td>2</td>\n",
              "      <td>2</td>\n",
              "      <td>2</td>\n",
              "      <td>1</td>\n",
              "      <td>0</td>\n",
              "      <td>0</td>\n",
              "      <td>0</td>\n",
              "      <td>0</td>\n",
              "    </tr>\n",
              "  </tbody>\n",
              "</table>\n",
              "<p>16085 rows × 13 columns</p>\n",
              "</div>"
            ],
            "text/plain": [
              "       Postal code       date  ...  Slots_freed_sum  Slots_taken_sum\n",
              "0            75001   1/1/2018  ...               22               20\n",
              "1            75001   1/2/2018  ...               23               22\n",
              "2            75001   1/3/2018  ...               27               27\n",
              "3            75001   1/4/2018  ...               25               21\n",
              "4            75001   1/5/2018  ...               18               20\n",
              "...            ...        ...  ...              ...              ...\n",
              "16080        95880  6/15/2018  ...                0                0\n",
              "16081        95880  6/16/2018  ...                0                0\n",
              "16082        95880  6/17/2018  ...                0                0\n",
              "16083        95880  6/18/2018  ...                0                0\n",
              "16084        95880  6/19/2018  ...                0                0\n",
              "\n",
              "[16085 rows x 13 columns]"
            ]
          },
          "metadata": {
            "tags": []
          },
          "execution_count": 46
        }
      ]
    },
    {
      "cell_type": "markdown",
      "metadata": {
        "id": "rVS2yFCWTWSy"
      },
      "source": [
        "## Checking data"
      ]
    },
    {
      "cell_type": "code",
      "metadata": {
        "id": "PVUCYq6t-L-l",
        "outputId": "96d6902a-2665-4b90-d118-147cd13e0b42",
        "colab": {
          "base_uri": "https://localhost:8080/",
          "height": 384
        }
      },
      "source": [
        "#Dataset Preview top\n",
        "#\n",
        "Autolib.head(10)"
      ],
      "execution_count": 47,
      "outputs": [
        {
          "output_type": "execute_result",
          "data": {
            "text/html": [
              "<div>\n",
              "<style scoped>\n",
              "    .dataframe tbody tr th:only-of-type {\n",
              "        vertical-align: middle;\n",
              "    }\n",
              "\n",
              "    .dataframe tbody tr th {\n",
              "        vertical-align: top;\n",
              "    }\n",
              "\n",
              "    .dataframe thead th {\n",
              "        text-align: right;\n",
              "    }\n",
              "</style>\n",
              "<table border=\"1\" class=\"dataframe\">\n",
              "  <thead>\n",
              "    <tr style=\"text-align: right;\">\n",
              "      <th></th>\n",
              "      <th>Postal code</th>\n",
              "      <th>date</th>\n",
              "      <th>n_daily_data_points</th>\n",
              "      <th>dayOfWeek</th>\n",
              "      <th>day_type</th>\n",
              "      <th>BlueCars_taken_sum</th>\n",
              "      <th>BlueCars_returned_sum</th>\n",
              "      <th>Utilib_taken_sum</th>\n",
              "      <th>Utilib_returned_sum</th>\n",
              "      <th>Utilib_14_taken_sum</th>\n",
              "      <th>Utilib_14_returned_sum</th>\n",
              "      <th>Slots_freed_sum</th>\n",
              "      <th>Slots_taken_sum</th>\n",
              "    </tr>\n",
              "  </thead>\n",
              "  <tbody>\n",
              "    <tr>\n",
              "      <th>0</th>\n",
              "      <td>75001</td>\n",
              "      <td>1/1/2018</td>\n",
              "      <td>1440</td>\n",
              "      <td>0</td>\n",
              "      <td>weekday</td>\n",
              "      <td>110</td>\n",
              "      <td>103</td>\n",
              "      <td>3</td>\n",
              "      <td>2</td>\n",
              "      <td>10</td>\n",
              "      <td>9</td>\n",
              "      <td>22</td>\n",
              "      <td>20</td>\n",
              "    </tr>\n",
              "    <tr>\n",
              "      <th>1</th>\n",
              "      <td>75001</td>\n",
              "      <td>1/2/2018</td>\n",
              "      <td>1438</td>\n",
              "      <td>1</td>\n",
              "      <td>weekday</td>\n",
              "      <td>98</td>\n",
              "      <td>94</td>\n",
              "      <td>1</td>\n",
              "      <td>1</td>\n",
              "      <td>8</td>\n",
              "      <td>8</td>\n",
              "      <td>23</td>\n",
              "      <td>22</td>\n",
              "    </tr>\n",
              "    <tr>\n",
              "      <th>2</th>\n",
              "      <td>75001</td>\n",
              "      <td>1/3/2018</td>\n",
              "      <td>1439</td>\n",
              "      <td>2</td>\n",
              "      <td>weekday</td>\n",
              "      <td>138</td>\n",
              "      <td>139</td>\n",
              "      <td>0</td>\n",
              "      <td>0</td>\n",
              "      <td>2</td>\n",
              "      <td>2</td>\n",
              "      <td>27</td>\n",
              "      <td>27</td>\n",
              "    </tr>\n",
              "    <tr>\n",
              "      <th>3</th>\n",
              "      <td>75001</td>\n",
              "      <td>1/4/2018</td>\n",
              "      <td>1320</td>\n",
              "      <td>3</td>\n",
              "      <td>weekday</td>\n",
              "      <td>104</td>\n",
              "      <td>104</td>\n",
              "      <td>2</td>\n",
              "      <td>2</td>\n",
              "      <td>9</td>\n",
              "      <td>8</td>\n",
              "      <td>25</td>\n",
              "      <td>21</td>\n",
              "    </tr>\n",
              "    <tr>\n",
              "      <th>4</th>\n",
              "      <td>75001</td>\n",
              "      <td>1/5/2018</td>\n",
              "      <td>1440</td>\n",
              "      <td>4</td>\n",
              "      <td>weekday</td>\n",
              "      <td>114</td>\n",
              "      <td>117</td>\n",
              "      <td>3</td>\n",
              "      <td>3</td>\n",
              "      <td>6</td>\n",
              "      <td>6</td>\n",
              "      <td>18</td>\n",
              "      <td>20</td>\n",
              "    </tr>\n",
              "    <tr>\n",
              "      <th>5</th>\n",
              "      <td>75001</td>\n",
              "      <td>1/6/2018</td>\n",
              "      <td>1437</td>\n",
              "      <td>5</td>\n",
              "      <td>weekend</td>\n",
              "      <td>187</td>\n",
              "      <td>185</td>\n",
              "      <td>6</td>\n",
              "      <td>6</td>\n",
              "      <td>7</td>\n",
              "      <td>8</td>\n",
              "      <td>38</td>\n",
              "      <td>35</td>\n",
              "    </tr>\n",
              "    <tr>\n",
              "      <th>6</th>\n",
              "      <td>75001</td>\n",
              "      <td>1/7/2018</td>\n",
              "      <td>1440</td>\n",
              "      <td>6</td>\n",
              "      <td>weekend</td>\n",
              "      <td>180</td>\n",
              "      <td>180</td>\n",
              "      <td>2</td>\n",
              "      <td>2</td>\n",
              "      <td>10</td>\n",
              "      <td>9</td>\n",
              "      <td>34</td>\n",
              "      <td>34</td>\n",
              "    </tr>\n",
              "    <tr>\n",
              "      <th>7</th>\n",
              "      <td>75001</td>\n",
              "      <td>1/8/2018</td>\n",
              "      <td>1438</td>\n",
              "      <td>0</td>\n",
              "      <td>weekday</td>\n",
              "      <td>84</td>\n",
              "      <td>83</td>\n",
              "      <td>3</td>\n",
              "      <td>3</td>\n",
              "      <td>10</td>\n",
              "      <td>10</td>\n",
              "      <td>14</td>\n",
              "      <td>15</td>\n",
              "    </tr>\n",
              "    <tr>\n",
              "      <th>8</th>\n",
              "      <td>75001</td>\n",
              "      <td>1/9/2018</td>\n",
              "      <td>1439</td>\n",
              "      <td>1</td>\n",
              "      <td>weekday</td>\n",
              "      <td>81</td>\n",
              "      <td>84</td>\n",
              "      <td>1</td>\n",
              "      <td>1</td>\n",
              "      <td>4</td>\n",
              "      <td>4</td>\n",
              "      <td>15</td>\n",
              "      <td>15</td>\n",
              "    </tr>\n",
              "    <tr>\n",
              "      <th>9</th>\n",
              "      <td>75001</td>\n",
              "      <td>1/10/2018</td>\n",
              "      <td>1440</td>\n",
              "      <td>2</td>\n",
              "      <td>weekday</td>\n",
              "      <td>88</td>\n",
              "      <td>85</td>\n",
              "      <td>5</td>\n",
              "      <td>5</td>\n",
              "      <td>11</td>\n",
              "      <td>11</td>\n",
              "      <td>23</td>\n",
              "      <td>22</td>\n",
              "    </tr>\n",
              "  </tbody>\n",
              "</table>\n",
              "</div>"
            ],
            "text/plain": [
              "   Postal code       date  ...  Slots_freed_sum  Slots_taken_sum\n",
              "0        75001   1/1/2018  ...               22               20\n",
              "1        75001   1/2/2018  ...               23               22\n",
              "2        75001   1/3/2018  ...               27               27\n",
              "3        75001   1/4/2018  ...               25               21\n",
              "4        75001   1/5/2018  ...               18               20\n",
              "5        75001   1/6/2018  ...               38               35\n",
              "6        75001   1/7/2018  ...               34               34\n",
              "7        75001   1/8/2018  ...               14               15\n",
              "8        75001   1/9/2018  ...               15               15\n",
              "9        75001  1/10/2018  ...               23               22\n",
              "\n",
              "[10 rows x 13 columns]"
            ]
          },
          "metadata": {
            "tags": []
          },
          "execution_count": 47
        }
      ]
    },
    {
      "cell_type": "code",
      "metadata": {
        "id": "IHR_K0yL-gMT",
        "outputId": "4aa81aae-9349-40ad-bf7a-e99ee347ec8b",
        "colab": {
          "base_uri": "https://localhost:8080/",
          "height": 384
        }
      },
      "source": [
        "#Previewing bottom of the dataset\n",
        "#\n",
        "Autolib.tail(10)"
      ],
      "execution_count": 48,
      "outputs": [
        {
          "output_type": "execute_result",
          "data": {
            "text/html": [
              "<div>\n",
              "<style scoped>\n",
              "    .dataframe tbody tr th:only-of-type {\n",
              "        vertical-align: middle;\n",
              "    }\n",
              "\n",
              "    .dataframe tbody tr th {\n",
              "        vertical-align: top;\n",
              "    }\n",
              "\n",
              "    .dataframe thead th {\n",
              "        text-align: right;\n",
              "    }\n",
              "</style>\n",
              "<table border=\"1\" class=\"dataframe\">\n",
              "  <thead>\n",
              "    <tr style=\"text-align: right;\">\n",
              "      <th></th>\n",
              "      <th>Postal code</th>\n",
              "      <th>date</th>\n",
              "      <th>n_daily_data_points</th>\n",
              "      <th>dayOfWeek</th>\n",
              "      <th>day_type</th>\n",
              "      <th>BlueCars_taken_sum</th>\n",
              "      <th>BlueCars_returned_sum</th>\n",
              "      <th>Utilib_taken_sum</th>\n",
              "      <th>Utilib_returned_sum</th>\n",
              "      <th>Utilib_14_taken_sum</th>\n",
              "      <th>Utilib_14_returned_sum</th>\n",
              "      <th>Slots_freed_sum</th>\n",
              "      <th>Slots_taken_sum</th>\n",
              "    </tr>\n",
              "  </thead>\n",
              "  <tbody>\n",
              "    <tr>\n",
              "      <th>16075</th>\n",
              "      <td>95880</td>\n",
              "      <td>6/10/2018</td>\n",
              "      <td>1440</td>\n",
              "      <td>6</td>\n",
              "      <td>weekend</td>\n",
              "      <td>34</td>\n",
              "      <td>32</td>\n",
              "      <td>0</td>\n",
              "      <td>0</td>\n",
              "      <td>1</td>\n",
              "      <td>0</td>\n",
              "      <td>0</td>\n",
              "      <td>0</td>\n",
              "    </tr>\n",
              "    <tr>\n",
              "      <th>16076</th>\n",
              "      <td>95880</td>\n",
              "      <td>6/11/2018</td>\n",
              "      <td>1440</td>\n",
              "      <td>0</td>\n",
              "      <td>weekday</td>\n",
              "      <td>17</td>\n",
              "      <td>18</td>\n",
              "      <td>0</td>\n",
              "      <td>0</td>\n",
              "      <td>0</td>\n",
              "      <td>0</td>\n",
              "      <td>0</td>\n",
              "      <td>0</td>\n",
              "    </tr>\n",
              "    <tr>\n",
              "      <th>16077</th>\n",
              "      <td>95880</td>\n",
              "      <td>6/12/2018</td>\n",
              "      <td>1439</td>\n",
              "      <td>1</td>\n",
              "      <td>weekday</td>\n",
              "      <td>25</td>\n",
              "      <td>25</td>\n",
              "      <td>0</td>\n",
              "      <td>0</td>\n",
              "      <td>0</td>\n",
              "      <td>0</td>\n",
              "      <td>0</td>\n",
              "      <td>0</td>\n",
              "    </tr>\n",
              "    <tr>\n",
              "      <th>16078</th>\n",
              "      <td>95880</td>\n",
              "      <td>6/13/2018</td>\n",
              "      <td>1440</td>\n",
              "      <td>2</td>\n",
              "      <td>weekday</td>\n",
              "      <td>12</td>\n",
              "      <td>13</td>\n",
              "      <td>0</td>\n",
              "      <td>0</td>\n",
              "      <td>1</td>\n",
              "      <td>1</td>\n",
              "      <td>0</td>\n",
              "      <td>0</td>\n",
              "    </tr>\n",
              "    <tr>\n",
              "      <th>16079</th>\n",
              "      <td>95880</td>\n",
              "      <td>6/14/2018</td>\n",
              "      <td>1439</td>\n",
              "      <td>3</td>\n",
              "      <td>weekday</td>\n",
              "      <td>15</td>\n",
              "      <td>13</td>\n",
              "      <td>0</td>\n",
              "      <td>0</td>\n",
              "      <td>0</td>\n",
              "      <td>0</td>\n",
              "      <td>0</td>\n",
              "      <td>0</td>\n",
              "    </tr>\n",
              "    <tr>\n",
              "      <th>16080</th>\n",
              "      <td>95880</td>\n",
              "      <td>6/15/2018</td>\n",
              "      <td>1440</td>\n",
              "      <td>4</td>\n",
              "      <td>weekday</td>\n",
              "      <td>15</td>\n",
              "      <td>10</td>\n",
              "      <td>0</td>\n",
              "      <td>0</td>\n",
              "      <td>2</td>\n",
              "      <td>3</td>\n",
              "      <td>0</td>\n",
              "      <td>0</td>\n",
              "    </tr>\n",
              "    <tr>\n",
              "      <th>16081</th>\n",
              "      <td>95880</td>\n",
              "      <td>6/16/2018</td>\n",
              "      <td>1440</td>\n",
              "      <td>5</td>\n",
              "      <td>weekend</td>\n",
              "      <td>19</td>\n",
              "      <td>19</td>\n",
              "      <td>0</td>\n",
              "      <td>0</td>\n",
              "      <td>2</td>\n",
              "      <td>1</td>\n",
              "      <td>0</td>\n",
              "      <td>0</td>\n",
              "    </tr>\n",
              "    <tr>\n",
              "      <th>16082</th>\n",
              "      <td>95880</td>\n",
              "      <td>6/17/2018</td>\n",
              "      <td>1440</td>\n",
              "      <td>6</td>\n",
              "      <td>weekend</td>\n",
              "      <td>33</td>\n",
              "      <td>35</td>\n",
              "      <td>1</td>\n",
              "      <td>1</td>\n",
              "      <td>0</td>\n",
              "      <td>0</td>\n",
              "      <td>0</td>\n",
              "      <td>0</td>\n",
              "    </tr>\n",
              "    <tr>\n",
              "      <th>16083</th>\n",
              "      <td>95880</td>\n",
              "      <td>6/18/2018</td>\n",
              "      <td>1440</td>\n",
              "      <td>0</td>\n",
              "      <td>weekday</td>\n",
              "      <td>11</td>\n",
              "      <td>14</td>\n",
              "      <td>3</td>\n",
              "      <td>5</td>\n",
              "      <td>2</td>\n",
              "      <td>2</td>\n",
              "      <td>0</td>\n",
              "      <td>0</td>\n",
              "    </tr>\n",
              "    <tr>\n",
              "      <th>16084</th>\n",
              "      <td>95880</td>\n",
              "      <td>6/19/2018</td>\n",
              "      <td>1370</td>\n",
              "      <td>1</td>\n",
              "      <td>weekday</td>\n",
              "      <td>2</td>\n",
              "      <td>2</td>\n",
              "      <td>2</td>\n",
              "      <td>1</td>\n",
              "      <td>0</td>\n",
              "      <td>0</td>\n",
              "      <td>0</td>\n",
              "      <td>0</td>\n",
              "    </tr>\n",
              "  </tbody>\n",
              "</table>\n",
              "</div>"
            ],
            "text/plain": [
              "       Postal code       date  ...  Slots_freed_sum  Slots_taken_sum\n",
              "16075        95880  6/10/2018  ...                0                0\n",
              "16076        95880  6/11/2018  ...                0                0\n",
              "16077        95880  6/12/2018  ...                0                0\n",
              "16078        95880  6/13/2018  ...                0                0\n",
              "16079        95880  6/14/2018  ...                0                0\n",
              "16080        95880  6/15/2018  ...                0                0\n",
              "16081        95880  6/16/2018  ...                0                0\n",
              "16082        95880  6/17/2018  ...                0                0\n",
              "16083        95880  6/18/2018  ...                0                0\n",
              "16084        95880  6/19/2018  ...                0                0\n",
              "\n",
              "[10 rows x 13 columns]"
            ]
          },
          "metadata": {
            "tags": []
          },
          "execution_count": 48
        }
      ]
    },
    {
      "cell_type": "code",
      "metadata": {
        "id": "MHayYf8l-iGE",
        "outputId": "f0d7e5c4-9570-4c17-ead2-129bc1c4cb6a",
        "colab": {
          "base_uri": "https://localhost:8080/"
        }
      },
      "source": [
        "#Size of the Dataset\n",
        "#\n",
        "Autolib.shape"
      ],
      "execution_count": 49,
      "outputs": [
        {
          "output_type": "execute_result",
          "data": {
            "text/plain": [
              "(16085, 13)"
            ]
          },
          "metadata": {
            "tags": []
          },
          "execution_count": 49
        }
      ]
    },
    {
      "cell_type": "code",
      "metadata": {
        "id": "sRFArp-I-owq",
        "outputId": "8db7b5a4-0ea6-4473-d8f6-1471d03cc956",
        "colab": {
          "base_uri": "https://localhost:8080/",
          "height": 307
        }
      },
      "source": [
        "#Statistical Description of the Dataset\n",
        "#\n",
        "Autolib.describe()"
      ],
      "execution_count": 50,
      "outputs": [
        {
          "output_type": "execute_result",
          "data": {
            "text/html": [
              "<div>\n",
              "<style scoped>\n",
              "    .dataframe tbody tr th:only-of-type {\n",
              "        vertical-align: middle;\n",
              "    }\n",
              "\n",
              "    .dataframe tbody tr th {\n",
              "        vertical-align: top;\n",
              "    }\n",
              "\n",
              "    .dataframe thead th {\n",
              "        text-align: right;\n",
              "    }\n",
              "</style>\n",
              "<table border=\"1\" class=\"dataframe\">\n",
              "  <thead>\n",
              "    <tr style=\"text-align: right;\">\n",
              "      <th></th>\n",
              "      <th>Postal code</th>\n",
              "      <th>n_daily_data_points</th>\n",
              "      <th>dayOfWeek</th>\n",
              "      <th>BlueCars_taken_sum</th>\n",
              "      <th>BlueCars_returned_sum</th>\n",
              "      <th>Utilib_taken_sum</th>\n",
              "      <th>Utilib_returned_sum</th>\n",
              "      <th>Utilib_14_taken_sum</th>\n",
              "      <th>Utilib_14_returned_sum</th>\n",
              "      <th>Slots_freed_sum</th>\n",
              "      <th>Slots_taken_sum</th>\n",
              "    </tr>\n",
              "  </thead>\n",
              "  <tbody>\n",
              "    <tr>\n",
              "      <th>count</th>\n",
              "      <td>16085.000000</td>\n",
              "      <td>16085.000000</td>\n",
              "      <td>16085.000000</td>\n",
              "      <td>16085.000000</td>\n",
              "      <td>16085.000000</td>\n",
              "      <td>16085.000000</td>\n",
              "      <td>16085.000000</td>\n",
              "      <td>16085.000000</td>\n",
              "      <td>16085.000000</td>\n",
              "      <td>16085.000000</td>\n",
              "      <td>16085.000000</td>\n",
              "    </tr>\n",
              "    <tr>\n",
              "      <th>mean</th>\n",
              "      <td>88791.293876</td>\n",
              "      <td>1431.330619</td>\n",
              "      <td>2.969599</td>\n",
              "      <td>125.926951</td>\n",
              "      <td>125.912714</td>\n",
              "      <td>3.698290</td>\n",
              "      <td>3.699099</td>\n",
              "      <td>8.600560</td>\n",
              "      <td>8.599192</td>\n",
              "      <td>22.629033</td>\n",
              "      <td>22.629282</td>\n",
              "    </tr>\n",
              "    <tr>\n",
              "      <th>std</th>\n",
              "      <td>7647.342000</td>\n",
              "      <td>33.212050</td>\n",
              "      <td>2.008378</td>\n",
              "      <td>185.426579</td>\n",
              "      <td>185.501535</td>\n",
              "      <td>5.815058</td>\n",
              "      <td>5.824634</td>\n",
              "      <td>12.870098</td>\n",
              "      <td>12.868993</td>\n",
              "      <td>52.120263</td>\n",
              "      <td>52.146030</td>\n",
              "    </tr>\n",
              "    <tr>\n",
              "      <th>min</th>\n",
              "      <td>75001.000000</td>\n",
              "      <td>1174.000000</td>\n",
              "      <td>0.000000</td>\n",
              "      <td>0.000000</td>\n",
              "      <td>0.000000</td>\n",
              "      <td>0.000000</td>\n",
              "      <td>0.000000</td>\n",
              "      <td>0.000000</td>\n",
              "      <td>0.000000</td>\n",
              "      <td>0.000000</td>\n",
              "      <td>0.000000</td>\n",
              "    </tr>\n",
              "    <tr>\n",
              "      <th>25%</th>\n",
              "      <td>91330.000000</td>\n",
              "      <td>1439.000000</td>\n",
              "      <td>1.000000</td>\n",
              "      <td>20.000000</td>\n",
              "      <td>20.000000</td>\n",
              "      <td>0.000000</td>\n",
              "      <td>0.000000</td>\n",
              "      <td>1.000000</td>\n",
              "      <td>1.000000</td>\n",
              "      <td>0.000000</td>\n",
              "      <td>0.000000</td>\n",
              "    </tr>\n",
              "    <tr>\n",
              "      <th>50%</th>\n",
              "      <td>92340.000000</td>\n",
              "      <td>1440.000000</td>\n",
              "      <td>3.000000</td>\n",
              "      <td>46.000000</td>\n",
              "      <td>46.000000</td>\n",
              "      <td>1.000000</td>\n",
              "      <td>1.000000</td>\n",
              "      <td>3.000000</td>\n",
              "      <td>3.000000</td>\n",
              "      <td>0.000000</td>\n",
              "      <td>0.000000</td>\n",
              "    </tr>\n",
              "    <tr>\n",
              "      <th>75%</th>\n",
              "      <td>93400.000000</td>\n",
              "      <td>1440.000000</td>\n",
              "      <td>5.000000</td>\n",
              "      <td>135.000000</td>\n",
              "      <td>135.000000</td>\n",
              "      <td>4.000000</td>\n",
              "      <td>4.000000</td>\n",
              "      <td>10.000000</td>\n",
              "      <td>10.000000</td>\n",
              "      <td>5.000000</td>\n",
              "      <td>5.000000</td>\n",
              "    </tr>\n",
              "    <tr>\n",
              "      <th>max</th>\n",
              "      <td>95880.000000</td>\n",
              "      <td>1440.000000</td>\n",
              "      <td>6.000000</td>\n",
              "      <td>1352.000000</td>\n",
              "      <td>1332.000000</td>\n",
              "      <td>54.000000</td>\n",
              "      <td>58.000000</td>\n",
              "      <td>100.000000</td>\n",
              "      <td>101.000000</td>\n",
              "      <td>360.000000</td>\n",
              "      <td>359.000000</td>\n",
              "    </tr>\n",
              "  </tbody>\n",
              "</table>\n",
              "</div>"
            ],
            "text/plain": [
              "        Postal code  n_daily_data_points  ...  Slots_freed_sum  Slots_taken_sum\n",
              "count  16085.000000         16085.000000  ...     16085.000000     16085.000000\n",
              "mean   88791.293876          1431.330619  ...        22.629033        22.629282\n",
              "std     7647.342000            33.212050  ...        52.120263        52.146030\n",
              "min    75001.000000          1174.000000  ...         0.000000         0.000000\n",
              "25%    91330.000000          1439.000000  ...         0.000000         0.000000\n",
              "50%    92340.000000          1440.000000  ...         0.000000         0.000000\n",
              "75%    93400.000000          1440.000000  ...         5.000000         5.000000\n",
              "max    95880.000000          1440.000000  ...       360.000000       359.000000\n",
              "\n",
              "[8 rows x 11 columns]"
            ]
          },
          "metadata": {
            "tags": []
          },
          "execution_count": 50
        }
      ]
    },
    {
      "cell_type": "code",
      "metadata": {
        "id": "KgNyjTPF-3DT",
        "outputId": "1e0a8e24-f942-401d-d9fe-371dbbcef64b",
        "colab": {
          "base_uri": "https://localhost:8080/"
        }
      },
      "source": [
        "#Datatypes in the Dataset\n",
        "#\n",
        "Autolib.info()"
      ],
      "execution_count": 51,
      "outputs": [
        {
          "output_type": "stream",
          "text": [
            "<class 'pandas.core.frame.DataFrame'>\n",
            "RangeIndex: 16085 entries, 0 to 16084\n",
            "Data columns (total 13 columns):\n",
            " #   Column                  Non-Null Count  Dtype \n",
            "---  ------                  --------------  ----- \n",
            " 0   Postal code             16085 non-null  int64 \n",
            " 1   date                    16085 non-null  object\n",
            " 2   n_daily_data_points     16085 non-null  int64 \n",
            " 3   dayOfWeek               16085 non-null  int64 \n",
            " 4   day_type                16085 non-null  object\n",
            " 5   BlueCars_taken_sum      16085 non-null  int64 \n",
            " 6   BlueCars_returned_sum   16085 non-null  int64 \n",
            " 7   Utilib_taken_sum        16085 non-null  int64 \n",
            " 8   Utilib_returned_sum     16085 non-null  int64 \n",
            " 9   Utilib_14_taken_sum     16085 non-null  int64 \n",
            " 10  Utilib_14_returned_sum  16085 non-null  int64 \n",
            " 11  Slots_freed_sum         16085 non-null  int64 \n",
            " 12  Slots_taken_sum         16085 non-null  int64 \n",
            "dtypes: int64(11), object(2)\n",
            "memory usage: 1.6+ MB\n"
          ],
          "name": "stdout"
        }
      ]
    },
    {
      "cell_type": "code",
      "metadata": {
        "id": "iG5jh_VWWYMg",
        "outputId": "f884263a-7eff-4d16-ceb1-183c49695acc",
        "colab": {
          "base_uri": "https://localhost:8080/"
        }
      },
      "source": [
        "# Checking whether each column has an appropriate datatype\n",
        "#\n",
        "Autolib.dtypes"
      ],
      "execution_count": 52,
      "outputs": [
        {
          "output_type": "execute_result",
          "data": {
            "text/plain": [
              "Postal code                int64\n",
              "date                      object\n",
              "n_daily_data_points        int64\n",
              "dayOfWeek                  int64\n",
              "day_type                  object\n",
              "BlueCars_taken_sum         int64\n",
              "BlueCars_returned_sum      int64\n",
              "Utilib_taken_sum           int64\n",
              "Utilib_returned_sum        int64\n",
              "Utilib_14_taken_sum        int64\n",
              "Utilib_14_returned_sum     int64\n",
              "Slots_freed_sum            int64\n",
              "Slots_taken_sum            int64\n",
              "dtype: object"
            ]
          },
          "metadata": {
            "tags": []
          },
          "execution_count": 52
        }
      ]
    },
    {
      "cell_type": "code",
      "metadata": {
        "id": "tFFX6vqo_EdN",
        "outputId": "a29eaf12-aa28-4051-c7c4-a64adeaf2766",
        "colab": {
          "base_uri": "https://localhost:8080/"
        }
      },
      "source": [
        "#Checking Column Names\n",
        "#\n",
        "Autolib.columns"
      ],
      "execution_count": 53,
      "outputs": [
        {
          "output_type": "execute_result",
          "data": {
            "text/plain": [
              "Index(['Postal code', 'date', 'n_daily_data_points', 'dayOfWeek', 'day_type',\n",
              "       'BlueCars_taken_sum', 'BlueCars_returned_sum', 'Utilib_taken_sum',\n",
              "       'Utilib_returned_sum', 'Utilib_14_taken_sum', 'Utilib_14_returned_sum',\n",
              "       'Slots_freed_sum', 'Slots_taken_sum'],\n",
              "      dtype='object')"
            ]
          },
          "metadata": {
            "tags": []
          },
          "execution_count": 53
        }
      ]
    },
    {
      "cell_type": "code",
      "metadata": {
        "id": "3_acg4ey_odP",
        "outputId": "55f9e9a7-4edb-454e-ac18-c9d03dc69993",
        "colab": {
          "base_uri": "https://localhost:8080/"
        }
      },
      "source": [
        "#Number of Unique Values in Columns\n",
        "#\n",
        "Autolib.nunique()"
      ],
      "execution_count": 54,
      "outputs": [
        {
          "output_type": "execute_result",
          "data": {
            "text/plain": [
              "Postal code               104\n",
              "date                      156\n",
              "n_daily_data_points        23\n",
              "dayOfWeek                   7\n",
              "day_type                    2\n",
              "BlueCars_taken_sum        932\n",
              "BlueCars_returned_sum     929\n",
              "Utilib_taken_sum           48\n",
              "Utilib_returned_sum        49\n",
              "Utilib_14_taken_sum        92\n",
              "Utilib_14_returned_sum     94\n",
              "Slots_freed_sum           297\n",
              "Slots_taken_sum           301\n",
              "dtype: int64"
            ]
          },
          "metadata": {
            "tags": []
          },
          "execution_count": 54
        }
      ]
    },
    {
      "cell_type": "markdown",
      "metadata": {
        "id": "f376d4yqWuvv"
      },
      "source": [
        "## Data cleaning"
      ]
    },
    {
      "cell_type": "code",
      "metadata": {
        "id": "0kcGEHpVAT7o",
        "outputId": "9c8974b8-2a2a-4894-d31a-b9bd84bc009c",
        "colab": {
          "base_uri": "https://localhost:8080/"
        }
      },
      "source": [
        "#Checking Null Values in the Dataset\n",
        "#\n",
        "Autolib.isnull().sum()"
      ],
      "execution_count": 55,
      "outputs": [
        {
          "output_type": "execute_result",
          "data": {
            "text/plain": [
              "Postal code               0\n",
              "date                      0\n",
              "n_daily_data_points       0\n",
              "dayOfWeek                 0\n",
              "day_type                  0\n",
              "BlueCars_taken_sum        0\n",
              "BlueCars_returned_sum     0\n",
              "Utilib_taken_sum          0\n",
              "Utilib_returned_sum       0\n",
              "Utilib_14_taken_sum       0\n",
              "Utilib_14_returned_sum    0\n",
              "Slots_freed_sum           0\n",
              "Slots_taken_sum           0\n",
              "dtype: int64"
            ]
          },
          "metadata": {
            "tags": []
          },
          "execution_count": 55
        }
      ]
    },
    {
      "cell_type": "code",
      "metadata": {
        "id": "4QsHIYvFAheG",
        "outputId": "c899349f-7259-4fb1-f2ff-8422f64bc06c",
        "colab": {
          "base_uri": "https://localhost:8080/"
        }
      },
      "source": [
        "#Checking for Duplicates in the Dataset\n",
        "Autolib.duplicated().sum()"
      ],
      "execution_count": 56,
      "outputs": [
        {
          "output_type": "execute_result",
          "data": {
            "text/plain": [
              "0"
            ]
          },
          "metadata": {
            "tags": []
          },
          "execution_count": 56
        }
      ]
    },
    {
      "cell_type": "code",
      "metadata": {
        "id": "PPtZFPNfaScv",
        "outputId": "6951d2df-a462-4fe3-839b-496369f01954",
        "colab": {
          "base_uri": "https://localhost:8080/",
          "height": 347
        }
      },
      "source": [
        "# Since we are most interested in learning more about blue cars only\n",
        "# we drop all other unnecessary columns\n",
        "\n",
        "Autolib = Autolib.drop(Autolib.columns[7:], axis=1)\n",
        "Autolib.head(10)"
      ],
      "execution_count": 57,
      "outputs": [
        {
          "output_type": "execute_result",
          "data": {
            "text/html": [
              "<div>\n",
              "<style scoped>\n",
              "    .dataframe tbody tr th:only-of-type {\n",
              "        vertical-align: middle;\n",
              "    }\n",
              "\n",
              "    .dataframe tbody tr th {\n",
              "        vertical-align: top;\n",
              "    }\n",
              "\n",
              "    .dataframe thead th {\n",
              "        text-align: right;\n",
              "    }\n",
              "</style>\n",
              "<table border=\"1\" class=\"dataframe\">\n",
              "  <thead>\n",
              "    <tr style=\"text-align: right;\">\n",
              "      <th></th>\n",
              "      <th>Postal code</th>\n",
              "      <th>date</th>\n",
              "      <th>n_daily_data_points</th>\n",
              "      <th>dayOfWeek</th>\n",
              "      <th>day_type</th>\n",
              "      <th>BlueCars_taken_sum</th>\n",
              "      <th>BlueCars_returned_sum</th>\n",
              "    </tr>\n",
              "  </thead>\n",
              "  <tbody>\n",
              "    <tr>\n",
              "      <th>0</th>\n",
              "      <td>75001</td>\n",
              "      <td>1/1/2018</td>\n",
              "      <td>1440</td>\n",
              "      <td>0</td>\n",
              "      <td>weekday</td>\n",
              "      <td>110</td>\n",
              "      <td>103</td>\n",
              "    </tr>\n",
              "    <tr>\n",
              "      <th>1</th>\n",
              "      <td>75001</td>\n",
              "      <td>1/2/2018</td>\n",
              "      <td>1438</td>\n",
              "      <td>1</td>\n",
              "      <td>weekday</td>\n",
              "      <td>98</td>\n",
              "      <td>94</td>\n",
              "    </tr>\n",
              "    <tr>\n",
              "      <th>2</th>\n",
              "      <td>75001</td>\n",
              "      <td>1/3/2018</td>\n",
              "      <td>1439</td>\n",
              "      <td>2</td>\n",
              "      <td>weekday</td>\n",
              "      <td>138</td>\n",
              "      <td>139</td>\n",
              "    </tr>\n",
              "    <tr>\n",
              "      <th>3</th>\n",
              "      <td>75001</td>\n",
              "      <td>1/4/2018</td>\n",
              "      <td>1320</td>\n",
              "      <td>3</td>\n",
              "      <td>weekday</td>\n",
              "      <td>104</td>\n",
              "      <td>104</td>\n",
              "    </tr>\n",
              "    <tr>\n",
              "      <th>4</th>\n",
              "      <td>75001</td>\n",
              "      <td>1/5/2018</td>\n",
              "      <td>1440</td>\n",
              "      <td>4</td>\n",
              "      <td>weekday</td>\n",
              "      <td>114</td>\n",
              "      <td>117</td>\n",
              "    </tr>\n",
              "    <tr>\n",
              "      <th>5</th>\n",
              "      <td>75001</td>\n",
              "      <td>1/6/2018</td>\n",
              "      <td>1437</td>\n",
              "      <td>5</td>\n",
              "      <td>weekend</td>\n",
              "      <td>187</td>\n",
              "      <td>185</td>\n",
              "    </tr>\n",
              "    <tr>\n",
              "      <th>6</th>\n",
              "      <td>75001</td>\n",
              "      <td>1/7/2018</td>\n",
              "      <td>1440</td>\n",
              "      <td>6</td>\n",
              "      <td>weekend</td>\n",
              "      <td>180</td>\n",
              "      <td>180</td>\n",
              "    </tr>\n",
              "    <tr>\n",
              "      <th>7</th>\n",
              "      <td>75001</td>\n",
              "      <td>1/8/2018</td>\n",
              "      <td>1438</td>\n",
              "      <td>0</td>\n",
              "      <td>weekday</td>\n",
              "      <td>84</td>\n",
              "      <td>83</td>\n",
              "    </tr>\n",
              "    <tr>\n",
              "      <th>8</th>\n",
              "      <td>75001</td>\n",
              "      <td>1/9/2018</td>\n",
              "      <td>1439</td>\n",
              "      <td>1</td>\n",
              "      <td>weekday</td>\n",
              "      <td>81</td>\n",
              "      <td>84</td>\n",
              "    </tr>\n",
              "    <tr>\n",
              "      <th>9</th>\n",
              "      <td>75001</td>\n",
              "      <td>1/10/2018</td>\n",
              "      <td>1440</td>\n",
              "      <td>2</td>\n",
              "      <td>weekday</td>\n",
              "      <td>88</td>\n",
              "      <td>85</td>\n",
              "    </tr>\n",
              "  </tbody>\n",
              "</table>\n",
              "</div>"
            ],
            "text/plain": [
              "   Postal code       date  ...  BlueCars_taken_sum  BlueCars_returned_sum\n",
              "0        75001   1/1/2018  ...                 110                    103\n",
              "1        75001   1/2/2018  ...                  98                     94\n",
              "2        75001   1/3/2018  ...                 138                    139\n",
              "3        75001   1/4/2018  ...                 104                    104\n",
              "4        75001   1/5/2018  ...                 114                    117\n",
              "5        75001   1/6/2018  ...                 187                    185\n",
              "6        75001   1/7/2018  ...                 180                    180\n",
              "7        75001   1/8/2018  ...                  84                     83\n",
              "8        75001   1/9/2018  ...                  81                     84\n",
              "9        75001  1/10/2018  ...                  88                     85\n",
              "\n",
              "[10 rows x 7 columns]"
            ]
          },
          "metadata": {
            "tags": []
          },
          "execution_count": 57
        }
      ]
    },
    {
      "cell_type": "code",
      "metadata": {
        "id": "35W8DiJjatsY",
        "outputId": "39ba61d5-abc1-4bf0-83da-d3ca71592f70",
        "colab": {
          "base_uri": "https://localhost:8080/",
          "height": 77
        }
      },
      "source": [
        "# Renaming columns for uniformity purpose\n",
        "#\n",
        "\n",
        "Autolib.columns = ['postal_code', 'date', 'daily_data_points', 'day_of_week', 'day_type', 'total_bluecars_taken', \n",
        "                'total_bluecars_returned']\n",
        "Autolib.head(1)"
      ],
      "execution_count": 58,
      "outputs": [
        {
          "output_type": "execute_result",
          "data": {
            "text/html": [
              "<div>\n",
              "<style scoped>\n",
              "    .dataframe tbody tr th:only-of-type {\n",
              "        vertical-align: middle;\n",
              "    }\n",
              "\n",
              "    .dataframe tbody tr th {\n",
              "        vertical-align: top;\n",
              "    }\n",
              "\n",
              "    .dataframe thead th {\n",
              "        text-align: right;\n",
              "    }\n",
              "</style>\n",
              "<table border=\"1\" class=\"dataframe\">\n",
              "  <thead>\n",
              "    <tr style=\"text-align: right;\">\n",
              "      <th></th>\n",
              "      <th>postal_code</th>\n",
              "      <th>date</th>\n",
              "      <th>daily_data_points</th>\n",
              "      <th>day_of_week</th>\n",
              "      <th>day_type</th>\n",
              "      <th>total_bluecars_taken</th>\n",
              "      <th>total_bluecars_returned</th>\n",
              "    </tr>\n",
              "  </thead>\n",
              "  <tbody>\n",
              "    <tr>\n",
              "      <th>0</th>\n",
              "      <td>75001</td>\n",
              "      <td>1/1/2018</td>\n",
              "      <td>1440</td>\n",
              "      <td>0</td>\n",
              "      <td>weekday</td>\n",
              "      <td>110</td>\n",
              "      <td>103</td>\n",
              "    </tr>\n",
              "  </tbody>\n",
              "</table>\n",
              "</div>"
            ],
            "text/plain": [
              "   postal_code      date  ...  total_bluecars_taken  total_bluecars_returned\n",
              "0        75001  1/1/2018  ...                   110                      103\n",
              "\n",
              "[1 rows x 7 columns]"
            ]
          },
          "metadata": {
            "tags": []
          },
          "execution_count": 58
        }
      ]
    },
    {
      "cell_type": "code",
      "metadata": {
        "id": "CDeGHgmZbGg4"
      },
      "source": [
        "\n",
        "# Change Date column to datetime type.\n",
        "# Thats how its commonly referred in France.\n",
        "#\n",
        "Autolib['date'] = pd.to_datetime(Autolib['date'], format='%m/%d/%Y')"
      ],
      "execution_count": 59,
      "outputs": []
    },
    {
      "cell_type": "code",
      "metadata": {
        "id": "c8susw7_b0IQ"
      },
      "source": [
        "# Creating a new 'month' attribute\n",
        "\n",
        "Autolib['month'] = Autolib['date'].dt.month"
      ],
      "execution_count": 60,
      "outputs": []
    },
    {
      "cell_type": "code",
      "metadata": {
        "id": "OeKH90fO3t5_"
      },
      "source": [
        "# Replacing day_of week code with actual names of week\n",
        "#\n",
        "\n",
        "encode = {\"day_of_week\" : {0:\"monday\", 1:\"tuesday\", 2:\"wednesday\", 3:\"thursday\",\n",
        "                           4:\"friday\", 5:\"saturday\", 6:\"sunday\"}, \"month\" : {1:\"January\",\n",
        "                          2:\"February\", 3:\"March\", 4:\"April\", 5:\"May\", 6:\"June\"}}"
      ],
      "execution_count": 61,
      "outputs": []
    },
    {
      "cell_type": "code",
      "metadata": {
        "id": "IrY-BFi0365y",
        "outputId": "72252d86-a369-4f87-da03-a786ae0e99e2",
        "colab": {
          "base_uri": "https://localhost:8080/",
          "height": 197
        }
      },
      "source": [
        "Autolib.replace(encode, inplace = True)\n",
        "Autolib.head()"
      ],
      "execution_count": 62,
      "outputs": [
        {
          "output_type": "execute_result",
          "data": {
            "text/html": [
              "<div>\n",
              "<style scoped>\n",
              "    .dataframe tbody tr th:only-of-type {\n",
              "        vertical-align: middle;\n",
              "    }\n",
              "\n",
              "    .dataframe tbody tr th {\n",
              "        vertical-align: top;\n",
              "    }\n",
              "\n",
              "    .dataframe thead th {\n",
              "        text-align: right;\n",
              "    }\n",
              "</style>\n",
              "<table border=\"1\" class=\"dataframe\">\n",
              "  <thead>\n",
              "    <tr style=\"text-align: right;\">\n",
              "      <th></th>\n",
              "      <th>postal_code</th>\n",
              "      <th>date</th>\n",
              "      <th>daily_data_points</th>\n",
              "      <th>day_of_week</th>\n",
              "      <th>day_type</th>\n",
              "      <th>total_bluecars_taken</th>\n",
              "      <th>total_bluecars_returned</th>\n",
              "      <th>month</th>\n",
              "    </tr>\n",
              "  </thead>\n",
              "  <tbody>\n",
              "    <tr>\n",
              "      <th>0</th>\n",
              "      <td>75001</td>\n",
              "      <td>2018-01-01</td>\n",
              "      <td>1440</td>\n",
              "      <td>monday</td>\n",
              "      <td>weekday</td>\n",
              "      <td>110</td>\n",
              "      <td>103</td>\n",
              "      <td>January</td>\n",
              "    </tr>\n",
              "    <tr>\n",
              "      <th>1</th>\n",
              "      <td>75001</td>\n",
              "      <td>2018-01-02</td>\n",
              "      <td>1438</td>\n",
              "      <td>tuesday</td>\n",
              "      <td>weekday</td>\n",
              "      <td>98</td>\n",
              "      <td>94</td>\n",
              "      <td>January</td>\n",
              "    </tr>\n",
              "    <tr>\n",
              "      <th>2</th>\n",
              "      <td>75001</td>\n",
              "      <td>2018-01-03</td>\n",
              "      <td>1439</td>\n",
              "      <td>wednesday</td>\n",
              "      <td>weekday</td>\n",
              "      <td>138</td>\n",
              "      <td>139</td>\n",
              "      <td>January</td>\n",
              "    </tr>\n",
              "    <tr>\n",
              "      <th>3</th>\n",
              "      <td>75001</td>\n",
              "      <td>2018-01-04</td>\n",
              "      <td>1320</td>\n",
              "      <td>thursday</td>\n",
              "      <td>weekday</td>\n",
              "      <td>104</td>\n",
              "      <td>104</td>\n",
              "      <td>January</td>\n",
              "    </tr>\n",
              "    <tr>\n",
              "      <th>4</th>\n",
              "      <td>75001</td>\n",
              "      <td>2018-01-05</td>\n",
              "      <td>1440</td>\n",
              "      <td>friday</td>\n",
              "      <td>weekday</td>\n",
              "      <td>114</td>\n",
              "      <td>117</td>\n",
              "      <td>January</td>\n",
              "    </tr>\n",
              "  </tbody>\n",
              "</table>\n",
              "</div>"
            ],
            "text/plain": [
              "   postal_code       date  ...  total_bluecars_returned    month\n",
              "0        75001 2018-01-01  ...                      103  January\n",
              "1        75001 2018-01-02  ...                       94  January\n",
              "2        75001 2018-01-03  ...                      139  January\n",
              "3        75001 2018-01-04  ...                      104  January\n",
              "4        75001 2018-01-05  ...                      117  January\n",
              "\n",
              "[5 rows x 8 columns]"
            ]
          },
          "metadata": {
            "tags": []
          },
          "execution_count": 62
        }
      ]
    },
    {
      "cell_type": "code",
      "metadata": {
        "id": "xhGFJt1P-n5s",
        "outputId": "3d41a414-5fa8-459d-f15d-87eeac41e35d",
        "colab": {
          "base_uri": "https://localhost:8080/"
        }
      },
      "source": [
        "#Checking Column Names\n",
        "#\n",
        "Autolib.columns"
      ],
      "execution_count": 63,
      "outputs": [
        {
          "output_type": "execute_result",
          "data": {
            "text/plain": [
              "Index(['postal_code', 'date', 'daily_data_points', 'day_of_week', 'day_type',\n",
              "       'total_bluecars_taken', 'total_bluecars_returned', 'month'],\n",
              "      dtype='object')"
            ]
          },
          "metadata": {
            "tags": []
          },
          "execution_count": 63
        }
      ]
    },
    {
      "cell_type": "markdown",
      "metadata": {
        "id": "ADWrcEKa4wez"
      },
      "source": [
        "## Outliers"
      ]
    },
    {
      "cell_type": "code",
      "metadata": {
        "id": "1O2Ej5BZ43Qa",
        "outputId": "8d7314e2-d9f7-4cb9-d2e3-0e0eed5948fe",
        "colab": {
          "base_uri": "https://localhost:8080/",
          "height": 492
        }
      },
      "source": [
        "\n",
        "#Checking for the outliers by use of Box plots\n",
        "#\n",
        "fig, ax = plt.subplots(1,2, figsize=(20,8))\n",
        "fig.suptitle('Boxplots')\n",
        "sns.boxplot(data=Autolib, y = \"total_bluecars_taken\", ax=ax[0])\n",
        "ax[0].set_title('Box Plot of bluercars taken')\n",
        "sns.boxplot(data=Autolib, y = \"total_bluecars_returned\", ax=ax[1])\n",
        "ax[1].set_title('Box Plot of returned')\n",
        "plt.show()\n",
        "\n",
        "#There are several 'outliers' in the dataset for the number of blue cars taken and returned. However, there is no sufficient evidence that point to the likelihhod of these outliers being erroneous records. Since the outliers could be valid observations, we will not delete them."
      ],
      "execution_count": 64,
      "outputs": [
        {
          "output_type": "display_data",
          "data": {
            "image/png": "[encoded data removed]",
            "text/plain": [
              "<Figure size 1440x576 with 2 Axes>"
            ]
          },
          "metadata": {
            "tags": [],
            "needs_background": "light"
          }
        }
      ]
    },
    {
      "cell_type": "markdown",
      "metadata": {
        "id": "X2_JNA4vHZiY"
      },
      "source": [
        "There are several 'outliers' in the dataset for the number of blue cars taken and returned. However, there is no enough evidence evidence that point to the likelihhod of these outliers being erroneous records. Since the outliers could be valid observations, we will not remove them."
      ]
    },
    {
      "cell_type": "markdown",
      "metadata": {
        "id": "rPmxStKkHuZW"
      },
      "source": [
        "## Anomalies"
      ]
    },
    {
      "cell_type": "code",
      "metadata": {
        "id": "7aGRPKtLCHGD",
        "outputId": "cd8598f2-6ec7-45af-afdc-6d8177fa4a4a",
        "colab": {
          "base_uri": "https://localhost:8080/"
        }
      },
      "source": [
        "# Checking for Anomalies\n",
        "# from the 'blue cars taken' variable\n",
        "\n",
        "q1_taken = Autolib['total_bluecars_taken'].quantile(.25)\n",
        "q3_taken = Autolib['total_bluecars_taken'].quantile(.75)\n",
        "\n",
        "iqr_taken = q3_taken - q1_taken\n",
        "\n",
        "# from the 'blue cars returned' variable\n",
        "q1_returned = Autolib['total_bluecars_returned'].quantile(.25)\n",
        "q3_returned = Autolib['total_bluecars_returned'].quantile(.75)\n",
        "\n",
        "iqr_returned = q3_returned - q1_returned\n",
        "\n",
        "# 'available data points' variable\n",
        "q1_points = Autolib['daily_data_points'].quantile(.25)\n",
        "q3_points = Autolib['daily_data_points'].quantile(.75)\n",
        "\n",
        "iqr_points = q3_points - q1_points\n",
        "\n",
        "print(iqr_taken, iqr_returned, iqr_points)"
      ],
      "execution_count": 65,
      "outputs": [
        {
          "output_type": "stream",
          "text": [
            "115.0 115.0 1.0\n"
          ],
          "name": "stdout"
        }
      ]
    },
    {
      "cell_type": "markdown",
      "metadata": {
        "id": "bDPn8kKFIPpO"
      },
      "source": [
        "From the results the both blue cars taken and blue cars returned attributes they have 115 records that are not within the quartile 50% of the records in those columns.\n",
        "\n"
      ]
    },
    {
      "cell_type": "markdown",
      "metadata": {
        "id": "rgx23ribI1go"
      },
      "source": [
        "## Missing values"
      ]
    },
    {
      "cell_type": "code",
      "metadata": {
        "id": "KQMYjB1XIvAe",
        "outputId": "6d7e23b7-9ed4-456f-cd6c-846a91d5cf83",
        "colab": {
          "base_uri": "https://localhost:8080/"
        }
      },
      "source": [
        "# Confirming that our data has no nulls values\n",
        "\n",
        "Autolib.isnull().sum()"
      ],
      "execution_count": 66,
      "outputs": [
        {
          "output_type": "execute_result",
          "data": {
            "text/plain": [
              "postal_code                0\n",
              "date                       0\n",
              "daily_data_points          0\n",
              "day_of_week                0\n",
              "day_type                   0\n",
              "total_bluecars_taken       0\n",
              "total_bluecars_returned    0\n",
              "month                      0\n",
              "dtype: int64"
            ]
          },
          "metadata": {
            "tags": []
          },
          "execution_count": 66
        }
      ]
    },
    {
      "cell_type": "markdown",
      "metadata": {
        "id": "w5fUtOEFJP4e"
      },
      "source": [
        "# EXPLORATORY DATA ANALYSIS"
      ]
    },
    {
      "cell_type": "markdown",
      "metadata": {
        "id": "pjzmCAQjJUwJ"
      },
      "source": [
        "## UNAVARIATE ANALYSIS"
      ]
    },
    {
      "cell_type": "code",
      "metadata": {
        "id": "Fr-F-I49JaKB",
        "outputId": "ce5a696a-8abf-464e-fcdc-da1dff2978a7",
        "colab": {
          "base_uri": "https://localhost:8080/"
        }
      },
      "source": [
        "# Ploting the univariate summaries and recording our observations\n",
        "# Creating Frequency table of country column using the value_counts() function\n",
        "#\n",
        "Autolib.postal_code.value_counts()"
      ],
      "execution_count": 67,
      "outputs": [
        {
          "output_type": "execute_result",
          "data": {
            "text/plain": [
              "94130    156\n",
              "92310    156\n",
              "78140    156\n",
              "94700    156\n",
              "95100    156\n",
              "        ... \n",
              "93150    151\n",
              "93370    149\n",
              "92340    147\n",
              "93200    126\n",
              "93390     84\n",
              "Name: postal_code, Length: 104, dtype: int64"
            ]
          },
          "metadata": {
            "tags": []
          },
          "execution_count": 67
        }
      ]
    },
    {
      "cell_type": "code",
      "metadata": {
        "id": "I2E2VTTKKYmz",
        "outputId": "11000783-3c3a-47a8-855d-fc47f269484f",
        "colab": {
          "base_uri": "https://localhost:8080/"
        }
      },
      "source": [
        "# lets see how each day of the week would appear?\n",
        "#\n",
        "Autolib.day_of_week.value_counts()"
      ],
      "execution_count": 68,
      "outputs": [
        {
          "output_type": "execute_result",
          "data": {
            "text/plain": [
              "monday       2374\n",
              "tuesday      2363\n",
              "sunday       2274\n",
              "friday       2271\n",
              "wednesday    2268\n",
              "thursday     2268\n",
              "saturday     2267\n",
              "Name: day_of_week, dtype: int64"
            ]
          },
          "metadata": {
            "tags": []
          },
          "execution_count": 68
        }
      ]
    },
    {
      "cell_type": "code",
      "metadata": {
        "id": "5m40PwuWK2qr",
        "outputId": "687e4f63-a630-499d-80c8-7e9b79fb9166",
        "colab": {
          "base_uri": "https://localhost:8080/"
        }
      },
      "source": [
        "# How often does each day type appear?\n",
        "\n",
        "Autolib.day_type.value_counts()"
      ],
      "execution_count": 69,
      "outputs": [
        {
          "output_type": "execute_result",
          "data": {
            "text/plain": [
              "weekday    11544\n",
              "weekend     4541\n",
              "Name: day_type, dtype: int64"
            ]
          },
          "metadata": {
            "tags": []
          },
          "execution_count": 69
        }
      ]
    },
    {
      "cell_type": "code",
      "metadata": {
        "id": "YrD8LbMrMJiS",
        "outputId": "568b736d-ef36-418d-92fc-00162c4cfa9e",
        "colab": {
          "base_uri": "https://localhost:8080/",
          "height": 1000
        }
      },
      "source": [
        "# Frequency distribution plots\n",
        "\n",
        "col_names = ['total_bluecars_taken','total_bluecars_returned']\n",
        "fig, ax = plt.subplots(len(col_names), figsize=(10,20))\n",
        "\n",
        "for i, col_val in enumerate(col_names):\n",
        "\n",
        "    sns.distplot(Autolib[col_val], hist=True, ax=ax[i])\n",
        "    ax[i].set_title('Frequency distribution of '+col_val, fontsize=10)\n",
        "    ax[i].set_xlabel(col_val, fontsize=8)\n",
        "    ax[i].set_ylabel('Count', fontsize=8)\n",
        "\n",
        "plt.show()"
      ],
      "execution_count": 70,
      "outputs": [
        {
          "output_type": "stream",
          "text": [
            "/usr/local/lib/python3.6/dist-packages/seaborn/distributions.py:2551: FutureWarning: `distplot` is a deprecated function and will be removed in a future version. Please adapt your code to use either `displot` (a figure-level function with similar flexibility) or `histplot` (an axes-level function for histograms).\n",
            "  warnings.warn(msg, FutureWarning)\n",
            "/usr/local/lib/python3.6/dist-packages/seaborn/distributions.py:2551: FutureWarning: `distplot` is a deprecated function and will be removed in a future version. Please adapt your code to use either `displot` (a figure-level function with similar flexibility) or `histplot` (an axes-level function for histograms).\n",
            "  warnings.warn(msg, FutureWarning)\n"
          ],
          "name": "stderr"
        },
        {
          "output_type": "display_data",
          "data": {
            "image/png": "[encoded data removed]",
            "text/plain": [
              "<Figure size 720x1440 with 2 Axes>"
            ]
          },
          "metadata": {
            "tags": [],
            "needs_background": "light"
          }
        }
      ]
    },
    {
      "cell_type": "code",
      "metadata": {
        "id": "XMvT5BURLECU",
        "outputId": "6c19def5-3a92-4a39-e1e1-8ef7fa5f22c9",
        "colab": {
          "base_uri": "https://localhost:8080/",
          "height": 564
        }
      },
      "source": [
        "# plotting histograms to show the distribution of blue cars taken and returned.\n",
        "#\n",
        "fig,ax=plt.subplots(1,2,figsize=(20,10))\n",
        "Autolib['total_bluecars_taken'].plot.hist(ax=ax[0],bins=5,edgecolor='black',color='purple')\n",
        "ax[0].set_title('Distribution of Blue Cars Picked Up')\n",
        "x1=list(range(0,85,5))\n",
        "ax[0].set_xticks(x1)\n",
        "Autolib['total_bluecars_returned'].plot.hist(ax=ax[1],color='brown',bins=5,edgecolor='black')\n",
        "ax[1].set_title('Distribution of Blue Cars Returned')\n",
        "x2=list(range(0,20,2))\n",
        "ax[1].set_xticks(x2)\n",
        "plt.show()"
      ],
      "execution_count": 71,
      "outputs": [
        {
          "output_type": "display_data",
          "data": {
            "image/png": "[encoded data removed]",
            "text/plain": [
              "<Figure size 1440x720 with 2 Axes>"
            ]
          },
          "metadata": {
            "tags": [],
            "needs_background": "light"
          }
        }
      ]
    },
    {
      "cell_type": "markdown",
      "metadata": {
        "id": "7PsXDsVXL09Y"
      },
      "source": [
        "The two attributes are skewed to the right, meaning they dont follow the normal distribution."
      ]
    },
    {
      "cell_type": "markdown",
      "metadata": {
        "id": "Xi3LCtvUMCte"
      },
      "source": [
        "## Measures of Central Tendency"
      ]
    },
    {
      "cell_type": "code",
      "metadata": {
        "id": "fVrWNCcyMkLg",
        "outputId": "b8adcaa6-e10a-4c00-d0e3-46b5f51e50df",
        "colab": {
          "base_uri": "https://localhost:8080/"
        }
      },
      "source": [
        "# checking the mean, mode and median of blue cars taken in the dataset\n",
        "#\n",
        "mean_taken = Autolib['total_bluecars_taken'].mean()\n",
        "median_taken = Autolib['total_bluecars_taken'].median()\n",
        "mode_taken = Autolib['total_bluecars_taken'].mode()\n",
        "\n",
        "print(mean_taken, median_taken, mode_taken)"
      ],
      "execution_count": 72,
      "outputs": [
        {
          "output_type": "stream",
          "text": [
            "125.92695057506994 46.0 0    12\n",
            "dtype: int64\n"
          ],
          "name": "stdout"
        }
      ]
    },
    {
      "cell_type": "markdown",
      "metadata": {
        "id": "NmsAlf4fM8-8"
      },
      "source": [
        "The mean, median and mode for cars taken are 125.93, 46.00 and 12 respectively. "
      ]
    },
    {
      "cell_type": "code",
      "metadata": {
        "id": "Wpyptl0bNSxo",
        "outputId": "be1740fb-a443-4eb6-bae1-5f97927981ce",
        "colab": {
          "base_uri": "https://localhost:8080/"
        }
      },
      "source": [
        "# We can check the mean, mode and median of blue cars returned in the dataset\n",
        "#\n",
        "mean_returned = Autolib['total_bluecars_returned'].mean()\n",
        "median_returned = Autolib['total_bluecars_returned'].median()\n",
        "mode_returned = Autolib['total_bluecars_returned'].mode()\n",
        "\n",
        "print(mean_returned, median_returned, mode_returned)"
      ],
      "execution_count": 73,
      "outputs": [
        {
          "output_type": "stream",
          "text": [
            "125.912713708424 46.0 0    13\n",
            "dtype: int64\n"
          ],
          "name": "stdout"
        }
      ]
    },
    {
      "cell_type": "markdown",
      "metadata": {
        "id": "hIi7KXMBOPr6"
      },
      "source": [
        "The mean, median and mode for cars returned are 125.93, 46.00 and 13 respectively."
      ]
    },
    {
      "cell_type": "markdown",
      "metadata": {
        "id": "o21MNtFbOtFE"
      },
      "source": [
        "\n",
        "## Measures of Dispersion"
      ]
    },
    {
      "cell_type": "code",
      "metadata": {
        "id": "ECkTNtGROvOU",
        "outputId": "835f4d24-d9ec-4c67-99e4-0ef700b959ff",
        "colab": {
          "base_uri": "https://localhost:8080/"
        }
      },
      "source": [
        "# Checking the various measures of dispersion for the number of blue cars taken variable.\n",
        "# standard deviation, variance, range, skewness and kurtosis.\n",
        "#\n",
        "\n",
        "taken_std = Autolib['total_bluecars_taken'].std()\n",
        "taken_var = Autolib['total_bluecars_taken'].var()\n",
        "\n",
        "taken_max = Autolib['total_bluecars_taken'].max()\n",
        "taken_min = Autolib['total_bluecars_taken'].min()\n",
        "taken_range = taken_max - taken_min\n",
        "\n",
        "taken_skew = Autolib['total_bluecars_taken'].skew()\n",
        "taken_kurt = Autolib['total_bluecars_taken'].kurt()\n",
        "\n",
        "print('Standard Deviation is ' + str(taken_std))\n",
        "print('Variance is ' + str(taken_var))\n",
        "print('Range is ' + str(taken_range))\n",
        "print('Skewness is ' + str(taken_skew))\n",
        "print('Kurtosis is ' + str(taken_kurt))"
      ],
      "execution_count": 74,
      "outputs": [
        {
          "output_type": "stream",
          "text": [
            "Standard Deviation is 185.42657876727893\n",
            "Variance is 34383.01611333789\n",
            "Range is 1352\n",
            "Skewness is 2.4063548974959086\n",
            "Kurtosis is 6.172692305510042\n"
          ],
          "name": "stdout"
        }
      ]
    },
    {
      "cell_type": "code",
      "metadata": {
        "id": "5OhujhKXPQR2",
        "outputId": "92d86c6f-5cc6-471e-e588-00ea46bed2f7",
        "colab": {
          "base_uri": "https://localhost:8080/"
        }
      },
      "source": [
        "# Checking the various measures of dispersion for the blue cars returned variable\n",
        "# standard deviation, variance, range, skewness and kurtosis\n",
        "\n",
        "returned_std = Autolib['total_bluecars_returned'].std()\n",
        "returned_var = Autolib['total_bluecars_returned'].var()\n",
        "\n",
        "returned_max = Autolib['total_bluecars_returned'].max()\n",
        "returned_min = Autolib['total_bluecars_returned'].min()\n",
        "returned_range = returned_max - returned_min\n",
        "\n",
        "returned_skew = Autolib['total_bluecars_returned'].skew()\n",
        "returned_kurt = Autolib['total_bluecars_returned'].kurt()\n",
        "\n",
        "print('Standard Deviation of the variable is ' + str(returned_std))\n",
        "print('Variance of the variable is ' + str(returned_var))\n",
        "print('Range of the variable is ' + str(returned_range))\n",
        "print('Skewness of the variable is ' + str(returned_skew))\n",
        "print('Kurtosis of the variable is ' + str(returned_kurt))"
      ],
      "execution_count": 75,
      "outputs": [
        {
          "output_type": "stream",
          "text": [
            "Standard Deviation of the variable is 185.50153480148427\n",
            "Variance of the variable is 34410.819413706275\n",
            "Range of the variable is 1332\n",
            "Skewness of the variable is 2.412084978838923\n",
            "Kurtosis of the variable is 6.1862880957582345\n"
          ],
          "name": "stdout"
        }
      ]
    },
    {
      "cell_type": "markdown",
      "metadata": {
        "id": "Ae15I49hQthD"
      },
      "source": [
        "# Bivariate Analysis"
      ]
    },
    {
      "cell_type": "markdown",
      "metadata": {
        "id": "ZANDj8F1Q5lB"
      },
      "source": [
        "In Bivariate Analysis, we are checking various relationships between different measures and dimensions"
      ]
    },
    {
      "cell_type": "code",
      "metadata": {
        "id": "4Z4pLk96RDdS",
        "outputId": "6e91bf0b-8e4c-4d63-e7cb-804d85da6829",
        "colab": {
          "base_uri": "https://localhost:8080/",
          "height": 725
        }
      },
      "source": [
        "#Ploting the bivariate summaries and recording our observations\n",
        "#\n",
        "sns.pairplot(Autolib)\n",
        "plt.show()"
      ],
      "execution_count": 76,
      "outputs": [
        {
          "output_type": "display_data",
          "data": {
            "image/png": "[encoded data removed]",
            "text/plain": [
              "<Figure size 720x720 with 20 Axes>"
            ]
          },
          "metadata": {
            "tags": [],
            "needs_background": "light"
          }
        }
      ]
    },
    {
      "cell_type": "code",
      "metadata": {
        "id": "eE8sBd81Rkf_",
        "outputId": "e7f5f16b-ff5c-4426-bffb-9b95d7be6b54",
        "colab": {
          "base_uri": "https://localhost:8080/",
          "height": 377
        }
      },
      "source": [
        "# Plotting the Pearson correlation coefficient among numeric variables\n",
        "#\n",
        "sns.heatmap(Autolib.corr(),annot=True)\n",
        "plt.show()"
      ],
      "execution_count": 77,
      "outputs": [
        {
          "output_type": "display_data",
          "data": {
            "image/png": "[encoded data removed]",
            "text/plain": [
              "<Figure size 432x288 with 2 Axes>"
            ]
          },
          "metadata": {
            "tags": [],
            "needs_background": "light"
          }
        }
      ]
    },
    {
      "cell_type": "markdown",
      "metadata": {
        "id": "gTumYmfESz5u"
      },
      "source": [
        "The number of blue cars taken and returned have a perfect positive correlation.\n",
        "\n",
        "The correlation with the postal code can be ignored here since the postal code is a qualitative attribute even though it has numeric data type."
      ]
    },
    {
      "cell_type": "code",
      "metadata": {
        "id": "zvWgSyduStpS",
        "outputId": "f233f8bc-9ce0-4178-e69e-cfb410b73971",
        "colab": {
          "base_uri": "https://localhost:8080/",
          "height": 400
        }
      },
      "source": [
        "# scatter plot of blue cars taken and blue cars returned\n",
        "#\n",
        "sns.lmplot('total_bluecars_taken', \"total_bluecars_returned\", Autolib, scatter_kws={'marker':'o', 'color': 'indianred'}, \n",
        "           line_kws={'linewidth':1,'color':'blue'}, height = 4, aspect = 2)\n",
        "\n",
        "plt.title(\"Correlation of Blue Cars Taken and Returned\")\n",
        "plt.xlabel('Blue Cars Taken')\n",
        "plt.ylabel(\"Blue Cars Returned\")"
      ],
      "execution_count": 78,
      "outputs": [
        {
          "output_type": "stream",
          "text": [
            "/usr/local/lib/python3.6/dist-packages/seaborn/_decorators.py:43: FutureWarning: Pass the following variables as keyword args: x, y, data. From version 0.12, the only valid positional argument will be `data`, and passing other arguments without an explicit keyword will result in an error or misinterpretation.\n",
            "  FutureWarning\n"
          ],
          "name": "stderr"
        },
        {
          "output_type": "execute_result",
          "data": {
            "text/plain": [
              "Text(-2.5749999999999957, 0.5, 'Blue Cars Returned')"
            ]
          },
          "metadata": {
            "tags": []
          },
          "execution_count": 78
        },
        {
          "output_type": "display_data",
          "data": {
            "image/png": "[encoded data removed]",
            "text/plain": [
              "<Figure size 576x288 with 1 Axes>"
            ]
          },
          "metadata": {
            "tags": [],
            "needs_background": "light"
          }
        }
      ]
    },
    {
      "cell_type": "code",
      "metadata": {
        "id": "xjx6JQD7BqWe",
        "outputId": "dc318609-bdc0-4a6d-866a-2a1e73882798",
        "colab": {
          "base_uri": "https://localhost:8080/"
        }
      },
      "source": [
        "\n",
        "# Average number of blue cars taken each day of the week.\n",
        "#\n",
        "Autolib.groupby(['day_of_week'])['total_bluecars_taken'].mean()"
      ],
      "execution_count": 79,
      "outputs": [
        {
          "output_type": "execute_result",
          "data": {
            "text/plain": [
              "day_of_week\n",
              "friday       127.056803\n",
              "monday       111.159646\n",
              "saturday     156.124393\n",
              "sunday       146.071240\n",
              "thursday     116.052469\n",
              "tuesday      110.850614\n",
              "wednesday    115.453704\n",
              "Name: total_bluecars_taken, dtype: float64"
            ]
          },
          "metadata": {
            "tags": []
          },
          "execution_count": 79
        }
      ]
    },
    {
      "cell_type": "code",
      "metadata": {
        "id": "S_RZ1AtsL853",
        "outputId": "64d88291-8f8a-4fa0-8e50-b76992375943",
        "colab": {
          "base_uri": "https://localhost:8080/"
        }
      },
      "source": [
        "# Average number of blue cars returned each day of the week\n",
        "\n",
        "Autolib.groupby(['day_of_week'])['total_bluecars_returned'].mean()"
      ],
      "execution_count": 80,
      "outputs": [
        {
          "output_type": "execute_result",
          "data": {
            "text/plain": [
              "day_of_week\n",
              "friday       125.948481\n",
              "monday       111.545072\n",
              "saturday     155.081606\n",
              "sunday       148.986368\n",
              "thursday     115.944004\n",
              "tuesday      110.228523\n",
              "wednesday    114.935185\n",
              "Name: total_bluecars_returned, dtype: float64"
            ]
          },
          "metadata": {
            "tags": []
          },
          "execution_count": 80
        }
      ]
    },
    {
      "cell_type": "code",
      "metadata": {
        "id": "KvciSnoZMK9m",
        "outputId": "e442b68a-8f27-4998-f816-d6e660c71df7",
        "colab": {
          "base_uri": "https://localhost:8080/",
          "height": 386
        }
      },
      "source": [
        "# Bar chart showing total number of blue cars picked up each day of the week.\n",
        "#\n",
        "Autolib.groupby('day_of_week')['total_bluecars_taken'].sum().plot(kind='bar', figsize=(10,5))\n",
        "plt.xlabel(\"Day\")\n",
        "plt.xticks(rotation=45)\n",
        "plt.ylabel(\"Number of Blue Cars Taken\")\n",
        "plt.title(\"Pick Up Rates By Day of Week\")\n",
        "plt.show()"
      ],
      "execution_count": 82,
      "outputs": [
        {
          "output_type": "display_data",
          "data": {
            "image/png": "[encoded data removed]",
            "text/plain": [
              "<Figure size 720x360 with 1 Axes>"
            ]
          },
          "metadata": {
            "tags": [],
            "needs_background": "light"
          }
        }
      ]
    },
    {
      "cell_type": "code",
      "metadata": {
        "id": "HLrgu9EoMaqz",
        "outputId": "33d7d6de-6364-436c-dbd8-09142adcedae",
        "colab": {
          "base_uri": "https://localhost:8080/",
          "height": 386
        }
      },
      "source": [
        "# Bar chart showing total number of blue cars returned by day of week\n",
        "#\n",
        "Autolib.groupby('day_of_week')['total_bluecars_returned'].sum().plot(kind='bar', figsize=(10,5))\n",
        "plt.xlabel(\"Day\")\n",
        "plt.xticks(rotation=45)\n",
        "plt.ylabel(\"Number of Blue Cars Returned\")\n",
        "plt.title(\"Drop Off Rates By Day of Week\")\n",
        "plt.show()"
      ],
      "execution_count": 84,
      "outputs": [
        {
          "output_type": "display_data",
          "data": {
            "image/png": "[encoded data removed]",
            "text/plain": [
              "<Figure size 720x360 with 1 Axes>"
            ]
          },
          "metadata": {
            "tags": [],
            "needs_background": "light"
          }
        }
      ]
    },
    {
      "cell_type": "code",
      "metadata": {
        "id": "kzSC_qaGMlSL",
        "outputId": "f3ecf856-e735-46d3-8131-92bf354c2964",
        "colab": {
          "base_uri": "https://localhost:8080/",
          "height": 377
        }
      },
      "source": [
        "# Bar chart showing total number of blue cars picked up month.\n",
        "#\n",
        "Autolib.groupby('month')['total_bluecars_taken'].sum().plot(kind='bar', figsize=(10,5))\n",
        "plt.xlabel(\"Month\")\n",
        "plt.xticks(rotation=45)\n",
        "plt.ylabel(\"Number of Blue Cars Taken\")\n",
        "plt.title(\"Pick Up Rates By Month\")\n",
        "plt.show()"
      ],
      "execution_count": 85,
      "outputs": [
        {
          "output_type": "display_data",
          "data": {
            "image/png": "[encoded data removed]",
            "text/plain": [
              "<Figure size 720x360 with 1 Axes>"
            ]
          },
          "metadata": {
            "tags": [],
            "needs_background": "light"
          }
        }
      ]
    },
    {
      "cell_type": "code",
      "metadata": {
        "id": "_xyjmjpzMuAc",
        "outputId": "cca89f3d-204e-40ef-d122-d89af602ee5e",
        "colab": {
          "base_uri": "https://localhost:8080/",
          "height": 377
        }
      },
      "source": [
        "# Bar chart showing total number of blue cars returned month\n",
        "#\n",
        "Autolib.groupby('month')['total_bluecars_returned'].sum().plot(kind='bar', figsize=(10,5))\n",
        "plt.xlabel(\"Month\")\n",
        "plt.xticks(rotation=45)\n",
        "plt.ylabel(\"Number of Blue Cars Returned\")\n",
        "plt.title(\"Drop Off Rates By Month\")\n",
        "plt.show()"
      ],
      "execution_count": 86,
      "outputs": [
        {
          "output_type": "display_data",
          "data": {
            "image/png": "[encoded data removed]",
            "text/plain": [
              "<Figure size 720x360 with 1 Axes>"
            ]
          },
          "metadata": {
            "tags": [],
            "needs_background": "light"
          }
        }
      ]
    },
    {
      "cell_type": "markdown",
      "metadata": {
        "id": "1BXcKvlfNNST"
      },
      "source": [
        "# Formulating the Hypothesis"
      ]
    },
    {
      "cell_type": "markdown",
      "metadata": {
        "id": "V-xJs9ngUkv3"
      },
      "source": [
        "In France, postal codes are structured by cities (which are also referred to as departments). For example, all postal codes for Paris start with the number 75. To compress the dataset, we can cluster various Paris postal codes into one since they represent a similar geographical location like Paris city. We can do this for all other postal codes. \n",
        "As cited earlier, this analysis will emphasis on comparing the weekend blue car usage rates for Paris and Val-de-Marne.\n",
        "\n",
        "Null Hypothesis: For both Paris and Val-de-Marne, the average number of blue cars picked up during weekends is the same.\n",
        "\n",
        "Ho: μ1 = μ2 (where μ1 is the mean for Paris and μ2 is the mean for Val-de-Marne)\n",
        "\n",
        "Alternate Hypothesis: The average number of blue cars picked up during the weekends is not the same for Paris and Val-de-Marne.\n",
        "Ha: μ1 ≠ μ2\n"
      ]
    },
    {
      "cell_type": "code",
      "metadata": {
        "id": "o00o5TchU7qc",
        "outputId": "b955aa84-1f7f-40c1-c1c7-02a7cb954cb3",
        "colab": {
          "base_uri": "https://localhost:8080/"
        }
      },
      "source": [
        "# Checking all unique postal codes in the dataset.\n",
        "#\n",
        "Autolib['postal_code'].unique()"
      ],
      "execution_count": 88,
      "outputs": [
        {
          "output_type": "execute_result",
          "data": {
            "text/plain": [
              "array([75001, 75002, 75003, 75004, 75005, 75006, 75007, 75008, 75009,\n",
              "       75010, 75011, 75012, 75013, 75014, 75015, 75016, 75017, 75018,\n",
              "       75019, 75020, 75112, 75116, 78000, 78140, 78150, 91330, 91370,\n",
              "       91400, 92000, 92100, 92110, 92120, 92130, 92140, 92150, 92160,\n",
              "       92170, 92190, 92200, 92210, 92220, 92230, 92240, 92250, 92260,\n",
              "       92270, 92290, 92300, 92310, 92320, 92330, 92340, 92350, 92360,\n",
              "       92370, 92380, 92390, 92400, 92410, 92420, 92500, 92600, 92700,\n",
              "       92800, 93100, 93110, 93130, 93150, 93170, 93200, 93230, 93260,\n",
              "       93300, 93310, 93350, 93360, 93370, 93390, 93400, 93440, 93500,\n",
              "       93600, 93700, 93800, 94000, 94100, 94110, 94120, 94130, 94140,\n",
              "       94150, 94160, 94220, 94230, 94300, 94340, 94410, 94450, 94500,\n",
              "       94700, 94800, 95100, 95870, 95880])"
            ]
          },
          "metadata": {
            "tags": []
          },
          "execution_count": 88
        }
      ]
    },
    {
      "cell_type": "code",
      "metadata": {
        "id": "7FO58qHPVJFx",
        "outputId": "31be21f6-4b40-4da8-80c1-b74063e13caf",
        "colab": {
          "base_uri": "https://localhost:8080/",
          "height": 197
        }
      },
      "source": [
        "# Coding all postal codes with the city they represent.\n",
        "\n",
        "# create a list of our condition\n",
        "# Coding all postal codes with the city they represent\n",
        "\n",
        "# create a list of our conditions\n",
        "conditions = [\n",
        "    (Autolib['postal_code'] >= 75000) & (Autolib['postal_code'] <= 75999),\n",
        "    (Autolib['postal_code'] >= 78000) & (Autolib['postal_code'] <= 78999),\n",
        "    (Autolib['postal_code'] >= 91000) & (Autolib['postal_code'] <= 91999),\n",
        "    (Autolib['postal_code'] >= 92000) & (Autolib['postal_code'] <= 92999),\n",
        "    (Autolib['postal_code'] >= 93000) & (Autolib['postal_code'] <= 93999),\n",
        "    (Autolib['postal_code'] >= 94000) & (Autolib['postal_code'] <= 94999),\n",
        "    (Autolib['postal_code'] >= 95000) & (Autolib['postal_code'] <= 95999),\n",
        "    ]\n",
        "\n",
        "# create a list of the values we want to assign for each condition\n",
        "values = ['Paris', 'Antony', 'Hauts-de-Seine', 'Essonne', 'Seine-Saint_Denis', 'Val-de-Marne', 'Joseph']\n",
        "\n",
        "# create a new column and use np.select to assign values to it using our lists as arguments\n",
        "Autolib['city'] = np.select(conditions, values)\n",
        "\n",
        "# display updated DataFrame.\n",
        "Autolib.head()"
      ],
      "execution_count": 91,
      "outputs": [
        {
          "output_type": "execute_result",
          "data": {
            "text/html": [
              "<div>\n",
              "<style scoped>\n",
              "    .dataframe tbody tr th:only-of-type {\n",
              "        vertical-align: middle;\n",
              "    }\n",
              "\n",
              "    .dataframe tbody tr th {\n",
              "        vertical-align: top;\n",
              "    }\n",
              "\n",
              "    .dataframe thead th {\n",
              "        text-align: right;\n",
              "    }\n",
              "</style>\n",
              "<table border=\"1\" class=\"dataframe\">\n",
              "  <thead>\n",
              "    <tr style=\"text-align: right;\">\n",
              "      <th></th>\n",
              "      <th>postal_code</th>\n",
              "      <th>date</th>\n",
              "      <th>daily_data_points</th>\n",
              "      <th>day_of_week</th>\n",
              "      <th>day_type</th>\n",
              "      <th>total_bluecars_taken</th>\n",
              "      <th>total_bluecars_returned</th>\n",
              "      <th>month</th>\n",
              "      <th>city</th>\n",
              "    </tr>\n",
              "  </thead>\n",
              "  <tbody>\n",
              "    <tr>\n",
              "      <th>0</th>\n",
              "      <td>75001</td>\n",
              "      <td>2018-01-01</td>\n",
              "      <td>1440</td>\n",
              "      <td>monday</td>\n",
              "      <td>weekday</td>\n",
              "      <td>110</td>\n",
              "      <td>103</td>\n",
              "      <td>January</td>\n",
              "      <td>Paris</td>\n",
              "    </tr>\n",
              "    <tr>\n",
              "      <th>1</th>\n",
              "      <td>75001</td>\n",
              "      <td>2018-01-02</td>\n",
              "      <td>1438</td>\n",
              "      <td>tuesday</td>\n",
              "      <td>weekday</td>\n",
              "      <td>98</td>\n",
              "      <td>94</td>\n",
              "      <td>January</td>\n",
              "      <td>Paris</td>\n",
              "    </tr>\n",
              "    <tr>\n",
              "      <th>2</th>\n",
              "      <td>75001</td>\n",
              "      <td>2018-01-03</td>\n",
              "      <td>1439</td>\n",
              "      <td>wednesday</td>\n",
              "      <td>weekday</td>\n",
              "      <td>138</td>\n",
              "      <td>139</td>\n",
              "      <td>January</td>\n",
              "      <td>Paris</td>\n",
              "    </tr>\n",
              "    <tr>\n",
              "      <th>3</th>\n",
              "      <td>75001</td>\n",
              "      <td>2018-01-04</td>\n",
              "      <td>1320</td>\n",
              "      <td>thursday</td>\n",
              "      <td>weekday</td>\n",
              "      <td>104</td>\n",
              "      <td>104</td>\n",
              "      <td>January</td>\n",
              "      <td>Paris</td>\n",
              "    </tr>\n",
              "    <tr>\n",
              "      <th>4</th>\n",
              "      <td>75001</td>\n",
              "      <td>2018-01-05</td>\n",
              "      <td>1440</td>\n",
              "      <td>friday</td>\n",
              "      <td>weekday</td>\n",
              "      <td>114</td>\n",
              "      <td>117</td>\n",
              "      <td>January</td>\n",
              "      <td>Paris</td>\n",
              "    </tr>\n",
              "  </tbody>\n",
              "</table>\n",
              "</div>"
            ],
            "text/plain": [
              "   postal_code       date  ...    month   city\n",
              "0        75001 2018-01-01  ...  January  Paris\n",
              "1        75001 2018-01-02  ...  January  Paris\n",
              "2        75001 2018-01-03  ...  January  Paris\n",
              "3        75001 2018-01-04  ...  January  Paris\n",
              "4        75001 2018-01-05  ...  January  Paris\n",
              "\n",
              "[5 rows x 9 columns]"
            ]
          },
          "metadata": {
            "tags": []
          },
          "execution_count": 91
        }
      ]
    },
    {
      "cell_type": "code",
      "metadata": {
        "id": "p8kA8D59YIse",
        "outputId": "1f51cef3-ae45-4eca-8527-2623f36a2320",
        "colab": {
          "base_uri": "https://localhost:8080/"
        }
      },
      "source": [
        "# Confirming the new city attribute\n",
        "\n",
        "Autolib['city'].unique()"
      ],
      "execution_count": 92,
      "outputs": [
        {
          "output_type": "execute_result",
          "data": {
            "text/plain": [
              "array(['Paris', 'Antony', 'Hauts-de-Seine', 'Essonne',\n",
              "       'Seine-Saint_Denis', 'Val-de-Marne', 'Joseph'], dtype=object)"
            ]
          },
          "metadata": {
            "tags": []
          },
          "execution_count": 92
        }
      ]
    },
    {
      "cell_type": "markdown",
      "metadata": {
        "id": "yaGaF2gpYewA"
      },
      "source": [
        "# Sampling Approach"
      ]
    },
    {
      "cell_type": "markdown",
      "metadata": {
        "id": "5dE-AIroYiNJ"
      },
      "source": [
        "Since we compare samples from two different cities, i.e., in Paris versus Val-de-Marne, stratified random sampling is the best sampling method. In this case, the ‘city’ becomes the only strata suitable in our sampling method. Pick up and drop off stations are distinctive to postal codes/cities. A pick-up station can only be in one postal code or city. Therefore, a car pick up or drop off noted in a particular station belongs to a unique city. Using only one stratum ensures that every usage record has an equal chance of being selected during sampling. Each stratum has no overlapping sample, therefore no bias in the sampling method.\n",
        "\n",
        "Also, the sample selected needs to imitate the structure of the target dataset. Our selected sample should imitate this distribution to ensure that it signifies the entire target population as possible. To perform the sampling, we would divide the target population into the two strata and order each record from 1 to N for both Paris and Seine-Saint-Denis stratum. We need the sample size of every stratum to be proportional to the target population size of that particular strata\n"
      ]
    },
    {
      "cell_type": "code",
      "metadata": {
        "id": "ItxENwsebX47",
        "outputId": "41a6480d-a72e-4247-de1e-392af9ef5bb7",
        "colab": {
          "base_uri": "https://localhost:8080/",
          "height": 406
        }
      },
      "source": [
        "# Creating a new dataframe with only Paris and Val-de-Marne.\n",
        "# and only weekend records which is the target records.\n",
        "#\n",
        "\n",
        "Autolib_final = Autolib.loc[Autolib['city'].isin(['Paris','Val-de-Marne']) & Autolib['day_type'].isin(['weekend'])]\n",
        "Autolib_final"
      ],
      "execution_count": 97,
      "outputs": [
        {
          "output_type": "execute_result",
          "data": {
            "text/html": [
              "<div>\n",
              "<style scoped>\n",
              "    .dataframe tbody tr th:only-of-type {\n",
              "        vertical-align: middle;\n",
              "    }\n",
              "\n",
              "    .dataframe tbody tr th {\n",
              "        vertical-align: top;\n",
              "    }\n",
              "\n",
              "    .dataframe thead th {\n",
              "        text-align: right;\n",
              "    }\n",
              "</style>\n",
              "<table border=\"1\" class=\"dataframe\">\n",
              "  <thead>\n",
              "    <tr style=\"text-align: right;\">\n",
              "      <th></th>\n",
              "      <th>postal_code</th>\n",
              "      <th>date</th>\n",
              "      <th>daily_data_points</th>\n",
              "      <th>day_of_week</th>\n",
              "      <th>day_type</th>\n",
              "      <th>total_bluecars_taken</th>\n",
              "      <th>total_bluecars_returned</th>\n",
              "      <th>month</th>\n",
              "      <th>city</th>\n",
              "    </tr>\n",
              "  </thead>\n",
              "  <tbody>\n",
              "    <tr>\n",
              "      <th>5</th>\n",
              "      <td>75001</td>\n",
              "      <td>2018-01-06</td>\n",
              "      <td>1437</td>\n",
              "      <td>saturday</td>\n",
              "      <td>weekend</td>\n",
              "      <td>187</td>\n",
              "      <td>185</td>\n",
              "      <td>January</td>\n",
              "      <td>Paris</td>\n",
              "    </tr>\n",
              "    <tr>\n",
              "      <th>6</th>\n",
              "      <td>75001</td>\n",
              "      <td>2018-01-07</td>\n",
              "      <td>1440</td>\n",
              "      <td>sunday</td>\n",
              "      <td>weekend</td>\n",
              "      <td>180</td>\n",
              "      <td>180</td>\n",
              "      <td>January</td>\n",
              "      <td>Paris</td>\n",
              "    </tr>\n",
              "    <tr>\n",
              "      <th>12</th>\n",
              "      <td>75001</td>\n",
              "      <td>2018-01-13</td>\n",
              "      <td>1440</td>\n",
              "      <td>saturday</td>\n",
              "      <td>weekend</td>\n",
              "      <td>224</td>\n",
              "      <td>223</td>\n",
              "      <td>January</td>\n",
              "      <td>Paris</td>\n",
              "    </tr>\n",
              "    <tr>\n",
              "      <th>13</th>\n",
              "      <td>75001</td>\n",
              "      <td>2018-01-14</td>\n",
              "      <td>1440</td>\n",
              "      <td>sunday</td>\n",
              "      <td>weekend</td>\n",
              "      <td>193</td>\n",
              "      <td>193</td>\n",
              "      <td>January</td>\n",
              "      <td>Paris</td>\n",
              "    </tr>\n",
              "    <tr>\n",
              "      <th>19</th>\n",
              "      <td>75001</td>\n",
              "      <td>2018-01-20</td>\n",
              "      <td>1439</td>\n",
              "      <td>saturday</td>\n",
              "      <td>weekend</td>\n",
              "      <td>217</td>\n",
              "      <td>217</td>\n",
              "      <td>January</td>\n",
              "      <td>Paris</td>\n",
              "    </tr>\n",
              "    <tr>\n",
              "      <th>...</th>\n",
              "      <td>...</td>\n",
              "      <td>...</td>\n",
              "      <td>...</td>\n",
              "      <td>...</td>\n",
              "      <td>...</td>\n",
              "      <td>...</td>\n",
              "      <td>...</td>\n",
              "      <td>...</td>\n",
              "      <td>...</td>\n",
              "    </tr>\n",
              "    <tr>\n",
              "      <th>15600</th>\n",
              "      <td>94800</td>\n",
              "      <td>2018-06-03</td>\n",
              "      <td>1440</td>\n",
              "      <td>sunday</td>\n",
              "      <td>weekend</td>\n",
              "      <td>124</td>\n",
              "      <td>111</td>\n",
              "      <td>June</td>\n",
              "      <td>Val-de-Marne</td>\n",
              "    </tr>\n",
              "    <tr>\n",
              "      <th>15606</th>\n",
              "      <td>94800</td>\n",
              "      <td>2018-06-09</td>\n",
              "      <td>1440</td>\n",
              "      <td>saturday</td>\n",
              "      <td>weekend</td>\n",
              "      <td>121</td>\n",
              "      <td>104</td>\n",
              "      <td>June</td>\n",
              "      <td>Val-de-Marne</td>\n",
              "    </tr>\n",
              "    <tr>\n",
              "      <th>15607</th>\n",
              "      <td>94800</td>\n",
              "      <td>2018-06-10</td>\n",
              "      <td>1440</td>\n",
              "      <td>sunday</td>\n",
              "      <td>weekend</td>\n",
              "      <td>116</td>\n",
              "      <td>125</td>\n",
              "      <td>June</td>\n",
              "      <td>Val-de-Marne</td>\n",
              "    </tr>\n",
              "    <tr>\n",
              "      <th>15613</th>\n",
              "      <td>94800</td>\n",
              "      <td>2018-06-16</td>\n",
              "      <td>1440</td>\n",
              "      <td>saturday</td>\n",
              "      <td>weekend</td>\n",
              "      <td>124</td>\n",
              "      <td>124</td>\n",
              "      <td>June</td>\n",
              "      <td>Val-de-Marne</td>\n",
              "    </tr>\n",
              "    <tr>\n",
              "      <th>15614</th>\n",
              "      <td>94800</td>\n",
              "      <td>2018-06-17</td>\n",
              "      <td>1440</td>\n",
              "      <td>sunday</td>\n",
              "      <td>weekend</td>\n",
              "      <td>125</td>\n",
              "      <td>123</td>\n",
              "      <td>June</td>\n",
              "      <td>Val-de-Marne</td>\n",
              "    </tr>\n",
              "  </tbody>\n",
              "</table>\n",
              "<p>1716 rows × 9 columns</p>\n",
              "</div>"
            ],
            "text/plain": [
              "       postal_code       date  ...    month          city\n",
              "5            75001 2018-01-06  ...  January         Paris\n",
              "6            75001 2018-01-07  ...  January         Paris\n",
              "12           75001 2018-01-13  ...  January         Paris\n",
              "13           75001 2018-01-14  ...  January         Paris\n",
              "19           75001 2018-01-20  ...  January         Paris\n",
              "...            ...        ...  ...      ...           ...\n",
              "15600        94800 2018-06-03  ...     June  Val-de-Marne\n",
              "15606        94800 2018-06-09  ...     June  Val-de-Marne\n",
              "15607        94800 2018-06-10  ...     June  Val-de-Marne\n",
              "15613        94800 2018-06-16  ...     June  Val-de-Marne\n",
              "15614        94800 2018-06-17  ...     June  Val-de-Marne\n",
              "\n",
              "[1716 rows x 9 columns]"
            ]
          },
          "metadata": {
            "tags": []
          },
          "execution_count": 97
        }
      ]
    },
    {
      "cell_type": "code",
      "metadata": {
        "id": "zoG2ivjlgRZi",
        "outputId": "ca64ca6c-cec7-46b3-89e7-5c43f03d2349",
        "colab": {
          "base_uri": "https://localhost:8080/",
          "height": 197
        }
      },
      "source": [
        "Autolib_final.head(5)"
      ],
      "execution_count": 98,
      "outputs": [
        {
          "output_type": "execute_result",
          "data": {
            "text/html": [
              "<div>\n",
              "<style scoped>\n",
              "    .dataframe tbody tr th:only-of-type {\n",
              "        vertical-align: middle;\n",
              "    }\n",
              "\n",
              "    .dataframe tbody tr th {\n",
              "        vertical-align: top;\n",
              "    }\n",
              "\n",
              "    .dataframe thead th {\n",
              "        text-align: right;\n",
              "    }\n",
              "</style>\n",
              "<table border=\"1\" class=\"dataframe\">\n",
              "  <thead>\n",
              "    <tr style=\"text-align: right;\">\n",
              "      <th></th>\n",
              "      <th>postal_code</th>\n",
              "      <th>date</th>\n",
              "      <th>daily_data_points</th>\n",
              "      <th>day_of_week</th>\n",
              "      <th>day_type</th>\n",
              "      <th>total_bluecars_taken</th>\n",
              "      <th>total_bluecars_returned</th>\n",
              "      <th>month</th>\n",
              "      <th>city</th>\n",
              "    </tr>\n",
              "  </thead>\n",
              "  <tbody>\n",
              "    <tr>\n",
              "      <th>5</th>\n",
              "      <td>75001</td>\n",
              "      <td>2018-01-06</td>\n",
              "      <td>1437</td>\n",
              "      <td>saturday</td>\n",
              "      <td>weekend</td>\n",
              "      <td>187</td>\n",
              "      <td>185</td>\n",
              "      <td>January</td>\n",
              "      <td>Paris</td>\n",
              "    </tr>\n",
              "    <tr>\n",
              "      <th>6</th>\n",
              "      <td>75001</td>\n",
              "      <td>2018-01-07</td>\n",
              "      <td>1440</td>\n",
              "      <td>sunday</td>\n",
              "      <td>weekend</td>\n",
              "      <td>180</td>\n",
              "      <td>180</td>\n",
              "      <td>January</td>\n",
              "      <td>Paris</td>\n",
              "    </tr>\n",
              "    <tr>\n",
              "      <th>12</th>\n",
              "      <td>75001</td>\n",
              "      <td>2018-01-13</td>\n",
              "      <td>1440</td>\n",
              "      <td>saturday</td>\n",
              "      <td>weekend</td>\n",
              "      <td>224</td>\n",
              "      <td>223</td>\n",
              "      <td>January</td>\n",
              "      <td>Paris</td>\n",
              "    </tr>\n",
              "    <tr>\n",
              "      <th>13</th>\n",
              "      <td>75001</td>\n",
              "      <td>2018-01-14</td>\n",
              "      <td>1440</td>\n",
              "      <td>sunday</td>\n",
              "      <td>weekend</td>\n",
              "      <td>193</td>\n",
              "      <td>193</td>\n",
              "      <td>January</td>\n",
              "      <td>Paris</td>\n",
              "    </tr>\n",
              "    <tr>\n",
              "      <th>19</th>\n",
              "      <td>75001</td>\n",
              "      <td>2018-01-20</td>\n",
              "      <td>1439</td>\n",
              "      <td>saturday</td>\n",
              "      <td>weekend</td>\n",
              "      <td>217</td>\n",
              "      <td>217</td>\n",
              "      <td>January</td>\n",
              "      <td>Paris</td>\n",
              "    </tr>\n",
              "  </tbody>\n",
              "</table>\n",
              "</div>"
            ],
            "text/plain": [
              "    postal_code       date  ...    month   city\n",
              "5         75001 2018-01-06  ...  January  Paris\n",
              "6         75001 2018-01-07  ...  January  Paris\n",
              "12        75001 2018-01-13  ...  January  Paris\n",
              "13        75001 2018-01-14  ...  January  Paris\n",
              "19        75001 2018-01-20  ...  January  Paris\n",
              "\n",
              "[5 rows x 9 columns]"
            ]
          },
          "metadata": {
            "tags": []
          },
          "execution_count": 98
        }
      ]
    },
    {
      "cell_type": "code",
      "metadata": {
        "id": "k1qPABnLgZNA",
        "outputId": "b9d83a6c-7830-4c82-8e97-7066a0e728e3",
        "colab": {
          "base_uri": "https://localhost:8080/",
          "height": 197
        }
      },
      "source": [
        "Autolib_final.tail(5)"
      ],
      "execution_count": 99,
      "outputs": [
        {
          "output_type": "execute_result",
          "data": {
            "text/html": [
              "<div>\n",
              "<style scoped>\n",
              "    .dataframe tbody tr th:only-of-type {\n",
              "        vertical-align: middle;\n",
              "    }\n",
              "\n",
              "    .dataframe tbody tr th {\n",
              "        vertical-align: top;\n",
              "    }\n",
              "\n",
              "    .dataframe thead th {\n",
              "        text-align: right;\n",
              "    }\n",
              "</style>\n",
              "<table border=\"1\" class=\"dataframe\">\n",
              "  <thead>\n",
              "    <tr style=\"text-align: right;\">\n",
              "      <th></th>\n",
              "      <th>postal_code</th>\n",
              "      <th>date</th>\n",
              "      <th>daily_data_points</th>\n",
              "      <th>day_of_week</th>\n",
              "      <th>day_type</th>\n",
              "      <th>total_bluecars_taken</th>\n",
              "      <th>total_bluecars_returned</th>\n",
              "      <th>month</th>\n",
              "      <th>city</th>\n",
              "    </tr>\n",
              "  </thead>\n",
              "  <tbody>\n",
              "    <tr>\n",
              "      <th>15600</th>\n",
              "      <td>94800</td>\n",
              "      <td>2018-06-03</td>\n",
              "      <td>1440</td>\n",
              "      <td>sunday</td>\n",
              "      <td>weekend</td>\n",
              "      <td>124</td>\n",
              "      <td>111</td>\n",
              "      <td>June</td>\n",
              "      <td>Val-de-Marne</td>\n",
              "    </tr>\n",
              "    <tr>\n",
              "      <th>15606</th>\n",
              "      <td>94800</td>\n",
              "      <td>2018-06-09</td>\n",
              "      <td>1440</td>\n",
              "      <td>saturday</td>\n",
              "      <td>weekend</td>\n",
              "      <td>121</td>\n",
              "      <td>104</td>\n",
              "      <td>June</td>\n",
              "      <td>Val-de-Marne</td>\n",
              "    </tr>\n",
              "    <tr>\n",
              "      <th>15607</th>\n",
              "      <td>94800</td>\n",
              "      <td>2018-06-10</td>\n",
              "      <td>1440</td>\n",
              "      <td>sunday</td>\n",
              "      <td>weekend</td>\n",
              "      <td>116</td>\n",
              "      <td>125</td>\n",
              "      <td>June</td>\n",
              "      <td>Val-de-Marne</td>\n",
              "    </tr>\n",
              "    <tr>\n",
              "      <th>15613</th>\n",
              "      <td>94800</td>\n",
              "      <td>2018-06-16</td>\n",
              "      <td>1440</td>\n",
              "      <td>saturday</td>\n",
              "      <td>weekend</td>\n",
              "      <td>124</td>\n",
              "      <td>124</td>\n",
              "      <td>June</td>\n",
              "      <td>Val-de-Marne</td>\n",
              "    </tr>\n",
              "    <tr>\n",
              "      <th>15614</th>\n",
              "      <td>94800</td>\n",
              "      <td>2018-06-17</td>\n",
              "      <td>1440</td>\n",
              "      <td>sunday</td>\n",
              "      <td>weekend</td>\n",
              "      <td>125</td>\n",
              "      <td>123</td>\n",
              "      <td>June</td>\n",
              "      <td>Val-de-Marne</td>\n",
              "    </tr>\n",
              "  </tbody>\n",
              "</table>\n",
              "</div>"
            ],
            "text/plain": [
              "       postal_code       date  ...  month          city\n",
              "15600        94800 2018-06-03  ...   June  Val-de-Marne\n",
              "15606        94800 2018-06-09  ...   June  Val-de-Marne\n",
              "15607        94800 2018-06-10  ...   June  Val-de-Marne\n",
              "15613        94800 2018-06-16  ...   June  Val-de-Marne\n",
              "15614        94800 2018-06-17  ...   June  Val-de-Marne\n",
              "\n",
              "[5 rows x 9 columns]"
            ]
          },
          "metadata": {
            "tags": []
          },
          "execution_count": 99
        }
      ]
    },
    {
      "cell_type": "code",
      "metadata": {
        "id": "HILjqIR9hZKw",
        "outputId": "b1fb25bd-5f11-4083-b75e-ee12e952c77d",
        "colab": {
          "base_uri": "https://localhost:8080/"
        }
      },
      "source": [
        "# Checking the distribution of usage/records by city\n",
        "#\n",
        "Autolib_final['city'].value_counts()"
      ],
      "execution_count": 100,
      "outputs": [
        {
          "output_type": "execute_result",
          "data": {
            "text/plain": [
              "Paris           968\n",
              "Val-de-Marne    748\n",
              "Name: city, dtype: int64"
            ]
          },
          "metadata": {
            "tags": []
          },
          "execution_count": 100
        }
      ]
    },
    {
      "cell_type": "code",
      "metadata": {
        "id": "kQk8gotchuIt",
        "outputId": "b5dbae24-43ee-4bec-ace1-01e0465729d8",
        "colab": {
          "base_uri": "https://localhost:8080/"
        }
      },
      "source": [
        "# lets check by Stratified sample\n",
        "# We will choose a sample size of 15% of all target records\n",
        "\n",
        "sample = Autolib_final.groupby('city', group_keys=False).apply(lambda grouped_subset : grouped_subset.sample(frac=0.15))\n",
        "\n",
        "# proportion of the stratified sample\n",
        "print(sample['city'].value_counts())\n",
        "\n",
        "# Check the stratified output\n",
        "print(sample)"
      ],
      "execution_count": 101,
      "outputs": [
        {
          "output_type": "stream",
          "text": [
            "Paris           145\n",
            "Val-de-Marne    112\n",
            "Name: city, dtype: int64\n",
            "       postal_code       date  ...     month          city\n",
            "2693         75018 2018-02-11  ...  February         Paris\n",
            "1891         75013 2018-01-20  ...   January         Paris\n",
            "3390         75116 2018-04-28  ...     April         Paris\n",
            "1824         75012 2018-04-22  ...     April         Paris\n",
            "1525         75010 2018-05-05  ...       May         Paris\n",
            "...            ...        ...  ...       ...           ...\n",
            "15182        94500 2018-02-03  ...  February  Val-de-Marne\n",
            "14189        94160 2018-05-26  ...       May  Val-de-Marne\n",
            "13847        94140 2018-04-15  ...     April  Val-de-Marne\n",
            "14976        94410 2018-06-02  ...      June  Val-de-Marne\n",
            "14443        94230 2018-03-18  ...     March  Val-de-Marne\n",
            "\n",
            "[257 rows x 9 columns]\n"
          ],
          "name": "stdout"
        }
      ]
    },
    {
      "cell_type": "code",
      "metadata": {
        "id": "n8MLQgLaiGSH",
        "outputId": "28077e41-da0a-48b1-a1ad-e164c4517df2",
        "colab": {
          "base_uri": "https://localhost:8080/",
          "height": 334
        }
      },
      "source": [
        "# Performing normality test on the sample selected\n",
        "\n",
        "from statsmodels.graphics.gofplots import qqplot\n",
        "\n",
        "# q-q plot\n",
        "\n",
        "qqplot(sample['total_bluecars_taken'], line='s')\n",
        "plt.show()"
      ],
      "execution_count": 102,
      "outputs": [
        {
          "output_type": "stream",
          "text": [
            "/usr/local/lib/python3.6/dist-packages/statsmodels/tools/_testing.py:19: FutureWarning: pandas.util.testing is deprecated. Use the functions in the public API at pandas.testing instead.\n",
            "  import pandas.util.testing as tm\n"
          ],
          "name": "stderr"
        },
        {
          "output_type": "display_data",
          "data": {
            "image/png": "[encoded data removed]",
            "text/plain": [
              "<Figure size 432x288 with 1 Axes>"
            ]
          },
          "metadata": {
            "tags": [],
            "needs_background": "light"
          }
        }
      ]
    },
    {
      "cell_type": "markdown",
      "metadata": {
        "id": "t_eSwyd3iYIr"
      },
      "source": [
        "The sample did not have a normal distribution could be because of the outliers in the dataset.\n",
        "\n",
        "For this we will not remove the outliers they might be of significance to our study.\n",
        "\n",
        "we can still proceed with hyothesis testing since the sample size is greater than 30."
      ]
    },
    {
      "cell_type": "markdown",
      "metadata": {
        "id": "M1Q-wIGdlCgh"
      },
      "source": [
        "# Hypothesis Testing"
      ]
    },
    {
      "cell_type": "markdown",
      "metadata": {
        "id": "wVj7zsT7mbKy"
      },
      "source": [
        "We will use a two sample z-test and p-value to either accept or reject our null hypothesis to perform hypothesis testing.\n",
        "Below are the reasons why we choose to use the z-test as the right test statistic:\n",
        "\n",
        "•\tData points are independent of each other.\n",
        "\n",
        "•\tThe sample size is greater than 30.\n",
        "\n",
        "•\tThe sample data has been randomly selected from a population, so there is an equal chance of being selected for each item.\n"
      ]
    },
    {
      "cell_type": "code",
      "metadata": {
        "id": "R752Ve8JmxqD",
        "outputId": "6f5b8b53-24b4-4c55-bc9f-e8c0e895e163",
        "colab": {
          "base_uri": "https://localhost:8080/"
        }
      },
      "source": [
        "# Lets first define the two samples separately\n",
        "\n",
        "paris = sample[(sample['city'] == 'Paris')]\n",
        "Val_de_Marne = sample[(sample['city'] == 'Val-de-Marne')]\n",
        "\n",
        "print(paris)\n",
        "print(Val_de_Marne)"
      ],
      "execution_count": 106,
      "outputs": [
        {
          "output_type": "stream",
          "text": [
            "      postal_code       date  ...     month   city\n",
            "2693        75018 2018-02-11  ...  February  Paris\n",
            "1891        75013 2018-01-20  ...   January  Paris\n",
            "3390        75116 2018-04-28  ...     April  Paris\n",
            "1824        75012 2018-04-22  ...     April  Paris\n",
            "1525        75010 2018-05-05  ...       May  Paris\n",
            "...           ...        ...  ...       ...    ...\n",
            "2649        75017 2018-06-17  ...      June  Paris\n",
            "1980        75013 2018-04-22  ...     April  Paris\n",
            "1088        75007 2018-06-16  ...      June  Paris\n",
            "926         75006 2018-06-10  ...      June  Paris\n",
            "308         75002 2018-06-16  ...      June  Paris\n",
            "\n",
            "[145 rows x 9 columns]\n",
            "       postal_code       date  ...     month          city\n",
            "13150        94100 2018-01-28  ...   January  Val-de-Marne\n",
            "13319        94110 2018-02-11  ...  February  Val-de-Marne\n",
            "13752        94140 2018-01-07  ...   January  Val-de-Marne\n",
            "13068        94000 2018-04-15  ...     April  Val-de-Marne\n",
            "15197        94500 2018-02-18  ...  February  Val-de-Marne\n",
            "...            ...        ...  ...       ...           ...\n",
            "15182        94500 2018-02-03  ...  February  Val-de-Marne\n",
            "14189        94160 2018-05-26  ...       May  Val-de-Marne\n",
            "13847        94140 2018-04-15  ...     April  Val-de-Marne\n",
            "14976        94410 2018-06-02  ...      June  Val-de-Marne\n",
            "14443        94230 2018-03-18  ...     March  Val-de-Marne\n",
            "\n",
            "[112 rows x 9 columns]\n"
          ],
          "name": "stdout"
        }
      ]
    },
    {
      "cell_type": "markdown",
      "metadata": {
        "id": "uOe4cYtNpDez"
      },
      "source": [
        "# Significance level "
      ]
    },
    {
      "cell_type": "markdown",
      "metadata": {
        "id": "7etOsC_Yp2Q3"
      },
      "source": [
        "The significance level is defined as the probability of rejecting the null hypothesis when it is true. For this analysis, the significance level chosen is 0.05 or 5%.\n",
        "\n",
        "If the calculated p-value from the test statistic is less than 0.05, we reject the null hypothesis. If the value is greater than or equal to 0.05, then we accept the null hypothesis.\n"
      ]
    },
    {
      "cell_type": "markdown",
      "metadata": {
        "id": "GR8Rs7CrqEzs"
      },
      "source": [
        "# Critical Value"
      ]
    },
    {
      "cell_type": "markdown",
      "metadata": {
        "id": "sAJmZbfJqI5L"
      },
      "source": [
        "\n",
        "As α = 0.05, and the test statistic is a one-tailed test, the critical value of z is 1.645, as per the z critical value table."
      ]
    },
    {
      "cell_type": "markdown",
      "metadata": {
        "id": "8qNe-UUurOSq"
      },
      "source": [
        "\n",
        "## Z-Score and P-value"
      ]
    },
    {
      "cell_type": "code",
      "metadata": {
        "id": "TZ1TgWB_rdPW",
        "outputId": "d204b18f-6efe-43e7-e062-381e866d4843",
        "colab": {
          "base_uri": "https://localhost:8080/"
        }
      },
      "source": [
        "# Then, we calculate both the z-score and p value\n",
        "\n",
        "from scipy import stats\n",
        "from statsmodels.stats import weightstats as stests\n",
        "\n",
        "ztest ,pval1 = stests.ztest(x1=paris['total_bluecars_taken'], x2=hauts['total_bluecars_taken'], value=0,alternative='two-sided')\n",
        "print(float(pval1))\n",
        "if pval1<0.05:\n",
        "    print(\"Reject Null Hypothesis\")\n",
        "else:\n",
        "    print(\"Accept Null Hypothesis\")"
      ],
      "execution_count": 107,
      "outputs": [
        {
          "output_type": "stream",
          "text": [
            "3.790179011261841e-52\n",
            "Reject Null Hypothesis\n"
          ],
          "name": "stdout"
        }
      ]
    },
    {
      "cell_type": "markdown",
      "metadata": {
        "id": "GVCTHyH_rzQS"
      },
      "source": [
        "From the results the P-value from the two sample Z-test is less than 0.05 therefore we reject the null hypothesis"
      ]
    },
    {
      "cell_type": "code",
      "metadata": {
        "id": "Lra4l8h9r7jT",
        "outputId": "df6251c8-e5a7-4dad-bd48-90a2995a0815",
        "colab": {
          "base_uri": "https://localhost:8080/"
        }
      },
      "source": [
        "print(ztest)"
      ],
      "execution_count": 108,
      "outputs": [
        {
          "output_type": "stream",
          "text": [
            "15.195455826186167\n"
          ],
          "name": "stdout"
        }
      ]
    },
    {
      "cell_type": "markdown",
      "metadata": {
        "id": "BH1svu9ZsIv7"
      },
      "source": [
        "The Z-test is 15.195 much higher than Z-critical value which further proves that we should reject our null hyothesis."
      ]
    },
    {
      "cell_type": "markdown",
      "metadata": {
        "id": "mBGb7BPqtYov"
      },
      "source": [
        "## Power of the test"
      ]
    },
    {
      "cell_type": "code",
      "metadata": {
        "id": "anVwk8ZYtaqq",
        "outputId": "74be81f2-ee9e-4d94-812f-acb32d88fc47",
        "colab": {
          "base_uri": "https://localhost:8080/"
        }
      },
      "source": [
        "# Checking the power of the two sample z test\n",
        "\n",
        "from statsmodels.stats.power import zt_ind_solve_power\n",
        "\n",
        "alpha=0.05\n",
        "ratio=(158/97)\n",
        "effect_size= 0.3\n",
        "\n",
        "statistical_power = zt_ind_solve_power(effect_size=effect_size, nobs1=97, alpha=alpha, power=None, ratio=ratio, alternative='two-sided')\n",
        "print(\"The statistical power is: {0}\".format(statistical_power))"
      ],
      "execution_count": 109,
      "outputs": [
        {
          "output_type": "stream",
          "text": [
            "The statistical power is: 0.6427518155138209\n"
          ],
          "name": "stdout"
        }
      ]
    },
    {
      "cell_type": "markdown",
      "metadata": {
        "id": "Zk0z-bN4uBh7"
      },
      "source": [
        "The power of the test results is 64%. Preferably, this should be closer to 90% for a more significant statistical test.\n",
        "\n",
        "Some of the factors that could have affected the statistical power of the test include:\n",
        "\n",
        "•\tThe population did not follow a normal distribution.\n",
        "\n",
        "•\tThe sample sizes for the two strata were not the same.\n"
      ]
    },
    {
      "cell_type": "markdown",
      "metadata": {
        "id": "Cyi2uV-lzNRT"
      },
      "source": [
        "# Hypothesis Test results discussion"
      ]
    },
    {
      "cell_type": "markdown",
      "metadata": {
        "id": "V6SHgocBzYRg"
      },
      "source": [
        "The p-value of the two sample z test was calculated and found that the p values are 3.790179011261841e-52, lower than 0.05. Therefore, we reject the null hypothesis. This means that the average number of blue cars picked up on weekends is not the same for Paris and Val-de-Marne.\n",
        "\n",
        " In this case, we accept the alternate hypothesis.\n",
        "The calculated z statistic is 15.195455826186167 against the expected critical value of 1.645. It means that the data points are 15.2 standard deviations away from the mean. This is further evidence that we need to reject the null hypothesis.\n"
      ]
    },
    {
      "cell_type": "markdown",
      "metadata": {
        "id": "zhXEKvsrzyie"
      },
      "source": [
        "# Summary and Conclusions"
      ]
    },
    {
      "cell_type": "markdown",
      "metadata": {
        "id": "j7qaaXXf0TXr"
      },
      "source": [
        "\n",
        "The null and alternate hypothesis was successfully defined. Performed the sampling technique and carried out hypothesis testing, which resulted in the rejection of the null hypothesis. \n",
        "From the results, concluded that the average number of blue cars picked up in  Val-de-Marne is not the same in Paris.\n"
      ]
    }
  ]
}